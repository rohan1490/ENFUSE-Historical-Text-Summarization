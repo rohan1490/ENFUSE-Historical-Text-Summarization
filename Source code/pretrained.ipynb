{
  "nbformat": 4,
  "nbformat_minor": 0,
  "metadata": {
    "colab": {
      "name": "pretrained.ipynb",
      "provenance": [],
      "collapsed_sections": [],
      "toc_visible": true,
      "machine_shape": "hm"
    },
    "kernelspec": {
      "name": "python3",
      "display_name": "Python 3"
    },
    "language_info": {
      "name": "python"
    },
    "accelerator": "GPU"
  },
  "cells": [
    {
      "cell_type": "code",
      "metadata": {
        "id": "4zGlmdVErMen"
      },
      "source": [
        "import pandas as pd\n"
      ],
      "execution_count": null,
      "outputs": []
    },
    {
      "cell_type": "code",
      "metadata": {
        "id": "D8e6q625w8BU"
      },
      "source": [
        "search_result = pd.read_feather('/content/drive/MyDrive/ENFUSE/Dictionary/search_result1.feather')"
      ],
      "execution_count": null,
      "outputs": []
    },
    {
      "cell_type": "code",
      "metadata": {
        "colab": {
          "base_uri": "https://localhost:8080/"
        },
        "id": "vZn3ZmKGxDKo",
        "outputId": "4fd7a3a9-95f4-4dd7-ab22-59e5346e95e7"
      },
      "source": [
        "search_result.dtypes"
      ],
      "execution_count": null,
      "outputs": [
        {
          "output_type": "execute_result",
          "data": {
            "text/plain": [
              "search_string    object\n",
              "content          object\n",
              "dtype: object"
            ]
          },
          "metadata": {
            "tags": []
          },
          "execution_count": 3
        }
      ]
    },
    {
      "cell_type": "code",
      "metadata": {
        "id": "i_cZ8r2CBlXJ"
      },
      "source": [
        "search_result"
      ],
      "execution_count": null,
      "outputs": []
    },
    {
      "cell_type": "code",
      "metadata": {
        "id": "ZW3tYpPKxKKY"
      },
      "source": [
        "search_result['content'] = search_result['content'].astype(str)"
      ],
      "execution_count": null,
      "outputs": []
    },
    {
      "cell_type": "code",
      "metadata": {
        "id": "6_F2Li4NxKG3"
      },
      "source": [
        "search_result.content = search_result.content.apply(str)\n",
        "search_result.search_string = search_result.search_string.apply(str)\n"
      ],
      "execution_count": null,
      "outputs": []
    },
    {
      "cell_type": "code",
      "metadata": {
        "id": "COzgAoeZxDHD"
      },
      "source": [
        ""
      ],
      "execution_count": null,
      "outputs": []
    },
    {
      "cell_type": "code",
      "metadata": {
        "id": "JccljARJtQLY"
      },
      "source": [
        "!pip install transformers==2.2.0\n",
        "!pip install bert-extractive-summarizer"
      ],
      "execution_count": null,
      "outputs": []
    },
    {
      "cell_type": "code",
      "metadata": {
        "id": "HcwKs3QztQH8",
        "colab": {
          "base_uri": "https://localhost:8080/"
        },
        "outputId": "6d8f61b9-02f7-4afe-bab3-c7cd9f255ed2"
      },
      "source": [
        "!pip install spacy"
      ],
      "execution_count": null,
      "outputs": [
        {
          "output_type": "stream",
          "text": [
            "Requirement already satisfied: spacy in /usr/local/lib/python3.7/dist-packages (2.2.4)\n",
            "Requirement already satisfied: plac<1.2.0,>=0.9.6 in /usr/local/lib/python3.7/dist-packages (from spacy) (1.1.3)\n",
            "Requirement already satisfied: blis<0.5.0,>=0.4.0 in /usr/local/lib/python3.7/dist-packages (from spacy) (0.4.1)\n",
            "Requirement already satisfied: wasabi<1.1.0,>=0.4.0 in /usr/local/lib/python3.7/dist-packages (from spacy) (0.8.2)\n",
            "Requirement already satisfied: thinc==7.4.0 in /usr/local/lib/python3.7/dist-packages (from spacy) (7.4.0)\n",
            "Requirement already satisfied: setuptools in /usr/local/lib/python3.7/dist-packages (from spacy) (56.1.0)\n",
            "Requirement already satisfied: preshed<3.1.0,>=3.0.2 in /usr/local/lib/python3.7/dist-packages (from spacy) (3.0.5)\n",
            "Requirement already satisfied: requests<3.0.0,>=2.13.0 in /usr/local/lib/python3.7/dist-packages (from spacy) (2.23.0)\n",
            "Requirement already satisfied: srsly<1.1.0,>=1.0.2 in /usr/local/lib/python3.7/dist-packages (from spacy) (1.0.5)\n",
            "Requirement already satisfied: tqdm<5.0.0,>=4.38.0 in /usr/local/lib/python3.7/dist-packages (from spacy) (4.41.1)\n",
            "Requirement already satisfied: numpy>=1.15.0 in /usr/local/lib/python3.7/dist-packages (from spacy) (1.19.5)\n",
            "Requirement already satisfied: catalogue<1.1.0,>=0.0.7 in /usr/local/lib/python3.7/dist-packages (from spacy) (1.0.0)\n",
            "Requirement already satisfied: cymem<2.1.0,>=2.0.2 in /usr/local/lib/python3.7/dist-packages (from spacy) (2.0.5)\n",
            "Requirement already satisfied: murmurhash<1.1.0,>=0.28.0 in /usr/local/lib/python3.7/dist-packages (from spacy) (1.0.5)\n",
            "Requirement already satisfied: certifi>=2017.4.17 in /usr/local/lib/python3.7/dist-packages (from requests<3.0.0,>=2.13.0->spacy) (2020.12.5)\n",
            "Requirement already satisfied: chardet<4,>=3.0.2 in /usr/local/lib/python3.7/dist-packages (from requests<3.0.0,>=2.13.0->spacy) (3.0.4)\n",
            "Requirement already satisfied: urllib3!=1.25.0,!=1.25.1,<1.26,>=1.21.1 in /usr/local/lib/python3.7/dist-packages (from requests<3.0.0,>=2.13.0->spacy) (1.24.3)\n",
            "Requirement already satisfied: idna<3,>=2.5 in /usr/local/lib/python3.7/dist-packages (from requests<3.0.0,>=2.13.0->spacy) (2.10)\n",
            "Requirement already satisfied: importlib-metadata>=0.20; python_version < \"3.8\" in /usr/local/lib/python3.7/dist-packages (from catalogue<1.1.0,>=0.0.7->spacy) (4.0.1)\n",
            "Requirement already satisfied: zipp>=0.5 in /usr/local/lib/python3.7/dist-packages (from importlib-metadata>=0.20; python_version < \"3.8\"->catalogue<1.1.0,>=0.0.7->spacy) (3.4.1)\n",
            "Requirement already satisfied: typing-extensions>=3.6.4; python_version < \"3.8\" in /usr/local/lib/python3.7/dist-packages (from importlib-metadata>=0.20; python_version < \"3.8\"->catalogue<1.1.0,>=0.0.7->spacy) (3.7.4.3)\n"
          ],
          "name": "stdout"
        }
      ]
    },
    {
      "cell_type": "code",
      "metadata": {
        "id": "OUKcVGawtQAZ"
      },
      "source": [
        "from summarizer import Summarizer,TransformerSummarizer"
      ],
      "execution_count": null,
      "outputs": []
    },
    {
      "cell_type": "code",
      "metadata": {
        "id": "S3EbOx48uXk9",
        "colab": {
          "base_uri": "https://localhost:8080/"
        },
        "outputId": "f56e2047-3d27-4301-82c9-285b9e28ecbd"
      },
      "source": [
        "bert_model = Summarizer()"
      ],
      "execution_count": null,
      "outputs": [
        {
          "output_type": "stream",
          "text": [
            "100%|██████████| 434/434 [00:00<00:00, 300384.15B/s]\n",
            "100%|██████████| 1344997306/1344997306 [00:48<00:00, 27901151.68B/s]\n",
            "100%|██████████| 231508/231508 [00:00<00:00, 674886.30B/s]\n"
          ],
          "name": "stderr"
        }
      ]
    },
    {
      "cell_type": "code",
      "metadata": {
        "id": "OJ58ojBethZd",
        "colab": {
          "base_uri": "https://localhost:8080/"
        },
        "outputId": "c876f5b7-225c-47eb-f679-0e8b614bd2db"
      },
      "source": [
        ""
      ],
      "execution_count": null,
      "outputs": [
        {
          "output_type": "stream",
          "text": [
            "politics learning the tricks of the imperial secession trade irish and indian nationalism in the 30s and 40s throughout the first half ofthe twentieth century many household names from the indian nationalist movement came to ireland. keen friendships developed between a variety of irish and indian agitators embracing many of the leading political and literary figures of the day from both countries. as a result of their sharedimperial histories comparisons and connections influenced the respective revolutionary activists2. the formation of this group was the brainchild of some formidable figures from both countries independence movements. an indian irish independence league meeting in college green during his 1932 trip attracted as many as 3 000 people. patel was also with de valera in st stephen s green on 3 july 1932 at the unveiling of the countess markievicz memorial. throughout his time in dublin patel encouraged irish people to copy the boycott of british goods that was proving so successful in india. an advertisement stated tea direct from india such tactics had of course been adopted in ireland at the beginning of the economic war and a few months after patel s visit an phoblacht carried advertisements for anew shop the indian stores on dame street that would facilitate those wishing to boycott british goods in their entirety. while in ireland patel befriended a prominent republican family the woods of donnybrook. mary mollie woods became heavily involved in the indian irish independence league buy irish first then buy indian. on 5 february he listened to proceedings in the d il from a seat in the visitors gallery. lal wright n e deywe have an accurate picture of bose s reactions to his irish visit from a statement that he released on 30 march 1936 entitled impressions of ireland . it seems that his meetings with irish ministerswere most worthwhile besides having prolonged discussions with mr de valera i met individually most of the fianna f il ministers. all of them are exceedingly sympathetic accessible and humane. they had not yet become hardened bureaucratic ministers and there was no official atmosphere about them. i also discussed with him the question of restriction of jute cultivation in india and he gave me valuable suggestions as to how he would tackle the problem if he were put in charge. bose stated how on the whole he found the work of the irish government of interest and of value to indians who would soon have to tackle the problem of nation building through the machinery of state themselves. pragmatic and profitable exchanges abounded between the two parties. de valera already knew patel and bose but he would now meet the newly appointed prime minister jawaharlal nehru whose career reflected many aspects of his own. the visit was the beginning of a fond friendship between thetwo men. nikal seyn was in fact an irish soldier calledjohn nicholson. a few exceptionalfigures committed themselves completely to india. nagai places kim s irishness in relation to kipling sother uses of irish characters in his work and his changing sense of empire. there are many irish voices in kipling s early indian stories and poems most centrally mulvaney the key character of thetrio whose adventures are chronicled in soldiers three. com a tale of two colonies sat feb 10 00 00 00 gmt 2007https www1194614 mode print ot example. ot2 2mulvaney is kim s irish forerunner though the circumstances of his upbringing mean that we are spared another atrociousirish accent. as with mulvaney kim s irishness is meant to function as a powerful antidote to irish conspiracy . 3 16 2021revisiting india s bond with ireland 100 years after the easter risinghttps thewire. by themiddle of the 19th century ireland was a deeplyimpoverished country thebutt of english jokes. at onepoint half of all immigrationto the us was from ireland. in history irish india connection 100 years after easter uprising6 14w. in 1895 a young woman of scottish irish descent margaretnoble attended a lecture by swami vivekananda inlondon. har dayalalso often took irish revolutionary friends to meetings. the home rule league mergedwith the congress in 1920 inevitably ireland figured prominently. in history irish india connection 100 years after easter uprising8 14annie besant. credit wikipediain 1932 the indian irish independence league wasfounded. at one level the irish were thecolonisers as far as the indians were concerned. their plan was to seize arms from the 3 16 2021revisiting india s bond with ireland 100 years after the easter risinghttps thewire. in history irish india connection 100 years after easter uprising11 14which he said that india could not take on the british in aface to face war. this was their response we and the irish had strong ties of friendship. in history irish india connection 100 years after easter uprising privacy the ira we had the ina. there are also many connections between ireland and other countries once part of the british raj like burma and pakistan one article here looks at bangladesh originally east pakistan . the indian irish narrative is not solely an anti imperial one. in modern times irish people both undermined and sustained the british imperial system. some of the pieces included here tell the story of ireland s colonial participation in india. pierce grace recounts the career of sir michael o dwyer and his involvement in the amritsar massacre. this has since been rectified and we now know that many indian nationalists such as v. j this has since been rectified and we now know that many indian nationalists such as v. j.  patel and subhas chandra bose have in fact visited our shores and liaised with irish ii nationalists. bose who is looked at in some detail here could easily be described as the michael collins of india . some other themes that are unfortunately common to both countries are also tackled in this issue famine partition and relief agencies. cormac gr da provides us with a re evaluation of the bengal famine of 1943 4 india s last major famine and notes how some of the accounts are morbidly reminiscent of the great irish famine of a century earlier. trevelyan then governor of madras is better known in ireland for his laissez faire policy towards the irish famine and for failed famine relief trevelyan then governor of madras is better known in ireland for his laissez faire policy towards the irish famine and for failed famine relief. our irish readers also will now have a flavour of the far reaching impact of their own history on the indian subcontinent. hi kate o malley is assistant editor with the royal irish academy s documents on irish foreign policy difp series. politics learning the tricks of the imperial secession trade irish and indian nationalism in the 30s and 40s throughout the first half of the twentieth century many household names from the indian nationalist movement came to ireland. as a result of their shared imperial histories comparisons and connections influenced the respective revolutionary activists. the league would operate with a view to work by every possible means to secure the complete independence of india and ireland and to achieve the closest solidarity between the irish and the indian masses in their common struggle against british imperialism . we are told by the irish press how a whiteclad grey haired figure in a square white gandhi cap mr patel looked quite at home in this dublin crowd who pressed round to shake hands and wish india god speed . all of them are exceedingly sympathetic accessible and humane bose s impressions of ireland . they had not yet become respectable  it was interesting to know that wheat and sugar beet were now being cultivated in large areas and the development of agriculture was making the country less dependent on cattle rearing and therefore less dependent on the english market. india ireland the common struggle for independence although the early nineteen hundreds directed the imperial world into an inevitable demise the long shadow of the british empire continues to eclipse a quarter of the world s nations today india ireland the common struggle for independence although the early nineteen hundreds directed the imperial world into an inevitable demise the long shadow of the british empire continues to eclipse a quarter of the world s nations today. out of these previously conquered regions ireland and india deemed to be the two most important to the british during the rst half of the twentieth century. to further enhance the general understanding of british rule in the twentieth century it is also crucial to examine the relationship between ireland and india revealing the dark and oppressive state of this empire a state which held innocent people against their will for their own venal motives. in 1920 eamon de valera the president of the sinn fein party of ireland published a pamphlet through the freedom friends of india titled india ireland in 1920 eamon de valera the president of the sinn fein party of ireland published a pamphlet through the freedom friends of india titled india ireland. in this pamphlet which was also read as a speech in new york city hosted by the freedom friends of india de valera dedicated the message to comparing the common anguish experienced under british rule in india to that of the oppression of ireland. due to their common loss of not only wealth but in actual blood the irish cultivated a sense of empathy with the indians de valera 1920 . ireland maintained a status of being imperialist all the while being colonized by great britain. on the other hand the british saw the people of india as inferior to irish people. this bigoted and discriminatory perspective the british maintained against any other nationality being drawn by author and historian michael sylvestri proved that these contradictory irish identities allowed indian and especially indian nationalists to embrace the irish a fellow subject race. in addition british inuenced irish identity began to gradually deteriorate as the eve of the first world war commenced allowing for the indian people to relate to the irish in a much more realistic manner. this war eventually led to treaty between ireland and britain allowing for an independent or dominion state which permitted a version of self governance. this proves that the communication and alliance between india and ireland transitioned from a merely nonexistent state of correspondence into an alliance stimulated by synonymous experiences. india ireland deconstruction of the text the pseudo president of ireland de valera analyzes the commonalities between irish and indian oppression from british rule in a pamphlet titled india ireland. written by an irish nationalist this pamphlet provides an extensive trail of evidence supporting the notion that irish and indian alliances grew stronger under british oppression. in this pamphlet de valera frequently compares irish and indian aspirations to george washington and his efforts during the american revolution. wouldn t even be capable of comprehending the death toll of 32 000 000 starved families. he continues by stating that the british once saw the growing population of the irish as threat to british rule and that this is simultaneously occurring in india. by including this de valera further expresses the empathy of irish for british oppression in india. this information reveals the brutality inicted upon the people of india contributing to the central theme of violence argued by this web page. by connecting the relationship between the irish and the indians he decrees that both identities needed to ght britain in order to attain independence. towards the end of his work the irish nationalist states it is of course always by the sword that she has maintained herself in ireland as in india but she prefers to maintain herself with the sword in its scabbard if she can. by creating this metaphor de valera declares that violence and military action are the only ways the british empire will decide to bring their soldiers back to the united kingdom though de valera describes their geographical and ecological differences he makes sure to highlight the similarities between the two nations. at the time the decision to attack the crowd in punjab was vetted by sir michael o dwyer an irish lieutenant governor for the british in india. even in a bangali article written in india during this time it stated that such is the difference between ireland and india india is a conquered country inhabited by black people she is merely a zamindari of the conquerors. this of course seemed very appealing to all non british listeners and readers at the time in silvestri s the sinn fein of india the author mentions gandhi and his opinion on de valera. he was known for respecting de valera s aspirations for independence but compared him to general dyer in his method towards attaining independence. gandhi proved that a peaceful approach to ghting oppression resides as an alternative. public history has played a role through the entire last century however. it was proven how public history impacted the irish and indians during the times of the early twentieth century using the bangali and daily mail articles of course de valera is still remembered as a champion and instigator of irish independence though gandhi continues to be known globally as a leader of peaceful revolution something that de valera said to be impossible. now over a century after independence irish people continue to commemorate the easter rising in 1916. clearly the heroism and leadership during the time of the revolution continued to maintain a positive tone among the irish public. 9 ireland india and empire indo irish radical connections 1919 64 in this stimulating book or thesis as it is described on p.  2 rather betraying its origins the author claims to meet four principal objectives. in this chapter the links between irish and indian radicals are explored in such bodies as the league against imperialism lai which according to fenner brockway sought to create a unity between organisations representing the subject races of the world . among the indo irish parallels observed here is the distinctly fissiparous tendency of radical groups. 1 but the question which we might pose however is whether the irish experience actually made any difference to the indian simply preparing a catalogue of indian admirers of say collins or de valera and of course noting that irish independence preceded indian does not necessarily prove any significant causal relationship between the two nationalist movements. indeed extracting only irish references from indian memoirs might actually over emphasise the importance of ireland. o malley achieves her second objective more successfully than her first. we find irish republicans and antiimperialists alike living off moscow gold . the fact that irish republicans like nationalists in india and other parts of the world were prepared to accept subsidies from communists sources does not of course mean that they were themselves communist but it does help explain the perception of british security and intelligence agencies in the 1920s and 30s that soviet communism was the principal global challenge the empire faced the over emphasis which o malley identifies at the very start of her book. the argument here is not that communism was not a threat for it surely was but that in context it was not so paramount a threat as many believed. although a number of scholars have worked on the topic of indian revolutionaries and their international networks most notably richard popplewell and tom fraser in his important and pioneering unpublished phd thesis 2 and some use has already been made of these papers which comprise the records of the indian government s security and intelligence department o malley identifies ipi files as a crucial aspect of her study p under arthur griffith indeed sinn f in had begun as a non violent party though it did not remain so for very long. now there surely is a productive subject for comparative study. after all the irish have their very own fascinating celtic tales. much like india the irish can boast of an ancient and revered culture. and somewhere along the way our ancestors managed to meet and exchange musical notes in the iron age literary ideas in the 19th century and more recently tech trade innovations 5 surprising bonds shared between india and ireland talk to an irishman on indian mythology ying elephants shape shifters multiple headed demons and he ll know exactly what you re talking about. 3 when tagore met yeats in st clearly we enjoyed a lively cultural exchange even in centuries gone by while celtic horns are no longer in use in ireland music continues to be an integral part of their culture. both countries strived for independence and a revolution was taking place almost simultaneously in india and ireland. flag colours and alphabetical placement are just some of the coincidental connections between ireland and india. there is pallonji mistry who as an irish citizen is one of the richest men in both countries. the tragic savita halappanavar case which exposed the failures of irish abortion policy is another. khan noted that indians did not have to spend on heating and had cheaper food. most of ireland s agricultural produce went to britain to fuel its rapidly growing cities and military expeditions. sir charles potato forced to export grain irish peasants came to depend on potatoes. another consequence might be that the british never promoted potatoes in india as they had in ireland. our per capita consumption is still relatively low and we eat them as a vegetable not a starchy staple as the irish had. queen s college belfast were particularly prominent in their ability to supply the british empire with a variety of specialists. irish doctors manned india s medical services and irish missionaries ran many schools. another telling detail not from crosbie is that as many as 50 victoria crosses britain s highest military honour were awarded to irish soldiers in india after the suppression of the rising of 1857. crosbie notes how irish inuence was particularly strong in the great trignometrical survey the massive project undertaken by the british in 1802 71 to map the subcontinent. irish wife both of whom had died and left him to be raised in the bazaars of india. but kipling s depiction of the irish as loyal servants of the british was more hopeful than real the survey had huge importance giving indians and the british a sense of the scale shape and contours of the country. but kipling s depiction of the irish as loyal servants of the british was more hopeful than real. in reality the spirit of irish nationalism lived on as did indian nationalism adapting to working within the british system irish wife both of whom had died and left him to be raised in the bazaars of india. in both countries the british had hoped to create an educated class to support their rule and while many did others reinvigorated the nationalist spirit. irish nationalists like charles parnell and indian nationalists like dadabhai naoroji used the freedoms of the british parliament to highlight the british exploitation in reality the spirit of irish nationalism lived on as did indian nationalism adapting to working within the british system. this took her to india which gave her wider scope for her activities. she helped establish the indian national congress and attracted other irish activists to follow her like james and margaret cousins. james was a poet who would inuence writers like the kannada poet and irish battalion ared into mutiny in jalandhar and solan in june 1920. the soldiers wore sinn fein irish nationalist rosettes and one group led by private james daly tried to seize the solan armoury this took her to india which gave her wider scope for her activities. the soldiers wore sinn fein irish nationalist rosettes and one group led by private james daly tried to seize the solan armoury. he admired terence macswiney the mayor of cork whose hunger strike led to his death in october 1920. de valera had overseen the irish transition from violence to negotiated peace and had been taoiseach and would be again but at that moment was leader of the opposition. he had recently travelled to india where he had been very warmly received by nehru. kate o malley an irish historian notes that the birmingham invitation was met with scepticism perhaps from parts of the british press who viewed de valera as a gure of enmity de valera had overseen the irish transition from violence to negotiated peace and had been taoiseach and would be again but at that moment was leader of the opposition. the irish were at once colonisers and colonised they helped run the indian empire though they were like the indians a subject people. from as early as the 1840s as sean ryder demonstrates irish nationalists made common cause with india in the anti imperialist rhetoric of young ireland. there are many irish voices in kipling s early indian stories and poems most centrally mulvaney the key character of the trio whose adventures are chronicled in soldiers three. it is hard to know which is more likely to make irish readers gnash their molars mulvaney s appalling travesty of an irish accent or kipling s summation of his countrymen that quaint crooked sweet profoundly irresponsible and profoundly loveable race that fight like fiends argue like children reason like women obey like men and jest like their own goblins of the rath through rebellion loyalty want woe or war. how s your blood pressure doing after reading that nagai with admirable dispassionateness shows how mulvaney is used by kipling to head off the threat of irish rebelliousness there are suggestions of fenianism in mulvaney s past. in an indian context he becomes a staunch if somewhat erratic imperial loyalist. but as nagai tellingly shows also the analogies between india and ireland could be read another way as they were by maud gonne in her construction of queen victoria as the famine queen on the occasion of the monarch s visit to ireland in 1900. hi 30s and 40s de valera talking to nehru and lady mountbatten during his visit to india 1948. patel was also with de valera in st throughout his time in dublin patel encouraged irish people to copy the boycott of british goods that was proving so successful in india. such tactics had of course been adopted in ireland at the beginning of the economic war and a few months after patel s visit an phoblacht carried advertisements for a new shop the indian stores on dame street that would facilitate those wishing to boycott british goods in their entirety patel took part in some public ceremonies while in ireland. amon de valera with indian prime minister pandit jawaharlal nehru during his visit to india in 1948. catherine de courcy tells the curious story of sir charles trevelyan s an insight into irish aid workers experiences of the indian subcontinent. de valera begins with declaring that america s revolution should be an example to not only to the irish and their independence movement but to india as well. the laboring classes can bring about change if they want to if they do not they are guilty with the others states de valera and when representatives of these classes come to their fellow laborers in america we believe the americans will not be slow to remind them of this fact he even stressed the superiority of americans due their leadership and action to rid the chains of british rule. he proclaimed that americans wouldn t even be capable of comprehending the death toll of 32 000 000 starved families. de valera added that the british always pretended that massacres such as those led by dyer are cruel but afterwards they trusted that violence is necessary to maintain control in foreign and subject nations. so no comparison should be attempted between ireland and india it was proven how public history impacted the irish and indians during the times of the early twentieth century using the bangali and daily mail articles. irishmen anyhow should not be deceived by the british cant about the indians.\n"
          ],
          "name": "stdout"
        }
      ]
    },
    {
      "cell_type": "code",
      "metadata": {
        "id": "5EO20DOkDwgv",
        "colab": {
          "base_uri": "https://localhost:8080/"
        },
        "outputId": "e9f580c1-a67a-41d2-8044-d9f174d779d7"
      },
      "source": [
        "GPT2_model = TransformerSummarizer(transformer_type=\"GPT2\",transformer_model_key=\"gpt2-medium\")\n",
        "xlnet_model = TransformerSummarizer(transformer_type=\"XLNet\",transformer_model_key=\"xlnet-base-cased\")\n"
      ],
      "execution_count": null,
      "outputs": [
        {
          "output_type": "stream",
          "text": [
            "100%|██████████| 760/760 [00:00<00:00, 469120.09B/s]\n",
            "100%|██████████| 467042463/467042463 [00:34<00:00, 13484067.08B/s]\n",
            "100%|██████████| 798011/798011 [00:00<00:00, 882937.35B/s]\n"
          ],
          "name": "stderr"
        }
      ]
    },
    {
      "cell_type": "code",
      "metadata": {
        "colab": {
          "base_uri": "https://localhost:8080/"
        },
        "id": "KkIxELmqiIoj",
        "outputId": "1a2d0001-ccfc-40a0-ff78-bec8757d6ee5"
      },
      "source": [
        "for i in range(15,20):\n",
        "  print(\"Article:\", search_result.iloc[i,1])\n",
        "  print(\"Predicted:\", xlnet_model(search_result.iloc[i,1], min_length=60))\n",
        "  print('\\n')"
      ],
      "execution_count": null,
      "outputs": [
        {
          "output_type": "stream",
          "text": [
            "Article:  and by the end of the 19th century anti colonial alliances gatheredmomentum a whole series of essays show the connections and mutual support between indian and irish liberationmovements in north america during the first world war and continuing contacts in the 1920s and 1930s.  a few exceptionalfigures committed themselves completely to india.  the career of margaret noble from co tyrone aka sister nivedita hindu nun and supporter of the bengali revolutionary movement is the subject of two studies by maina singh and ellekeboehmer there are essays by selina guinness and joseph lennon on the radical political theories and the post colonialaesthetics of james cousins irish theosophist poet and indian activist. the imperial connection took irish people to india for very different reasons as soldiers and administrators as seekers forspiritual truth or as missionaries such as thomas gavan duffy whose bizarre sounding propaganda film the catechist ofkil arni is analysed by fiona bateman.  it seems there is a real place called kil arni in south india it s not just a spoof ofkillarney and by the end of the 19th century anti colonial alliances gathered momentum a whole series of essays show the connections and mutual support between indian and irish liberation movements in north america during the first world war and continuing contacts in the 1920s and 1930s.  a few exceptional figures committed themselves completely to india.  the career of margaret noble from co tyrone aka sister nivedita hindu nun and supporter of the bengali revolutionary movement is the subject of two studies by maina singh and elleke boehmer there are essays by selina guinness and joseph lennon on the radical political theories and the post colonial aesthetics of james cousins irish theosophist poet and indian activist.  the imperial connection took irish people to india for very different reasons as soldiers and administrators as seekers for spiritual truth or as missionaries such as thomas gavan duffy whose bizarre sounding propaganda film the catechist of kil arni is analysed by fiona bateman.  it seems there is a real place called kil arni in south india it s not just a spoof of killarney successful irishmen included james alexander and robert gregory.  alexander bought the estate of caledon co.  tyrone sat in the irish house of commons and then progressed through the peerage to finish as earl of caledon.  robert gregory co.  galway made himself rich by the age of 40 and returned to london where he became a director of the east india company\n",
            "Predicted: and by the end of the 19th century anti colonial alliances gatheredmomentum a whole series of essays show the connections and mutual support between indian and irish liberationmovements in north america during the first world war and continuing contacts in the 1920s and 1930s. a few exceptional figures committed themselves completely to india. the imperial connection took irish people to india for very different reasons as soldiers and administrators as seekers for spiritual truth or as missionaries such as thomas gavan duffy whose bizarre sounding propaganda film the catechist of kil arni is analysed by fiona bateman.\n",
            "\n",
            "\n",
            "Article: nagai s concluding words sum up effectively the significance of both these books the pairing of india and ireland isimportant because this is precisely where we find two separate dreams born out of the empire curiously intersect the dreamof india and ireland closely united in their unwavering loyalty to the queen and that of indian and irish nationalists unitedin their goal of throwing off imperial rule to achieve their respective independences.  5.  revisiting india s bond withireland 100 years after theeaster rising from the connaught rangers mutiny to the indian irishindependence league numerous threads connected india andireland as both fought for independence from the british.  a little more than a hundred years ago an organiseduprising against colonial rule took place in europe next door to the british in ireland in april 1916. that ireland was a colony of the british for so long is a factmany are not even aware of ireland had achieved independence in 1932 but not yet shed off its british baggage.  it was a dominionof the empire and more than anything else it sought tobecome a republic which it achieved in 1948 . the connaught rangers mutiny irish politics comes toindiain june 1920 another incident took place that underlinedthe peculiar relationship the irish had with india.  acompany of the connaught rangers comprised of irishmenmutinied at jalandhar.  they refused to perform theirmilitary duties as a protest against the activities of thebritish army in ireland it was a dominionof the empire and more than anything else it sought tobecome a republic which it achieved in 1948 . the connaught rangers mutiny irish politics comes toindiain june 1920 another incident took place that underlinedthe peculiar relationship the irish had with india.  acompany of the connaught rangers comprised of irishmenmutinied at jalandhar.  they refused to perform theirmilitary duties as a protest against the activities of thebritish army in ireland.  on the following day the mutineerssent two emissaries to a company of the rangers stationedat solan in the himalayan foothills onthe morning of november 2 1920 he was executed indagshai. by the middle of the next year all of the convictedmutineers except the one who had died had beentransferred to prisons in england to serve out the remainderof their sentences.  the connaught rangers along with threeother irish regiments were disbanded in june 1922.  in1923 the mutineers were released from prison and returnedto ireland. the connaught rangers mutiny captures the complexity ofthe irish india relationship the connaught rangers along with threeother irish regiments were disbanded in june 1922.  in1923 the mutineers were released from prison and returnedto ireland. the connaught rangers mutiny captures the complexity ofthe irish india relationship.  at one level the irish were thecolonisers as far as the indians were concerned.  but theywere also equally the colonised pierce grace recounts the career of sir michael o dwyer and his involvement in the amritsar massacre.  o dwyer was lieutenant governor of the punjab and like many other irishmen before and after him was a loyal servant of the crown in india.  michael silvestri takes us a step further along the timeline and gives us a vivid account of the connaught rangers mutiny of 1920.  the image he paints for us of the connaught rangers wearing sinn f in rosettes on their british army uniforms singing rebel songs is quite striking.  we can plainly see how thousands of miles away and on indian soil the ill at ease ideologies of colonial and nationalist ireland were pitted against each other o dwyer was lieutenant governor of the punjab and like many other irishmen before and after him was a loyal servant of the crown in india.  michael silvestri takes us a step further along the timeline and gives us a vivid account of the connaught rangers mutiny of 1920.  the image he paints for us of the connaught rangers wearing sinn f in rosettes on their british army uniforms singing rebel songs is quite striking.  we can plainly see how thousands of miles away and on indian soil the ill at ease ideologies of colonial and nationalist ireland were pitted against each other.  we use cookies to ensure that we give you the best experience on our website o dwyer was lieutenant governor of the punjab and like many other irishmen before and after him was a loyal servant of the crown in india.  michael silvestri takes us a step further along the timeline and gives us a vivid account of the connaught rangers mutiny of 1920.  the image he paints for us of the connaught rangers wearing sinn f in rosettes on their british army uniforms singing rebel songs is quite striking.  we can plainly see how thousands of miles away and on indian soil the ill at ease ideologies of colonial and nationalist ireland were pitted against each other.  the hindu deity hanuman who is neither man nor monkey nor god but something in between\n",
            "Predicted: nagai s concluding words sum up effectively the significance of both these books the pairing of india and ireland isimportant because this is precisely where we find two separate dreams born out of the empire curiously intersect the dreamof india and ireland closely united in their unwavering loyalty to the queen and that of indian and irish nationalists unitedin their goal of throwing off imperial rule to achieve their respective independences. it was a dominionof the empire and more than anything else it sought tobecome a republic which it achieved in 1948 . the connaught rangers mutiny irish politics comes toindiain june 1920 another incident took place that underlinedthe peculiar relationship the irish had with india. acompany of the connaught rangers comprised of irishmenmutinied at jalandhar. in1923 the mutineers were released from prison and returnedto ireland. the image he paints for us of the connaught rangers wearing sinn f in rosettes on their british army uniforms singing rebel songs is quite striking. we can plainly see how thousands of miles away and on indian soil the ill at ease ideologies of colonial and nationalist ireland were pitted against each other o dwyer was lieutenant governor of the punjab and like many other irishmen before and after him was a loyal servant of the crown in india.\n",
            "\n",
            "\n",
            "Article:  3 16 2021revisiting india s bond with ireland 100 years after the easter risinghttps thewire. in history irish india connection 100 years after easter uprising5 14english presence had been widespread almost from the startand there had been periodic uprisings against the british. there was also widespread resentment against the britishattempt to alter the demographics of ulster the north eastern part of the island by encouraging scottish settlers tomove there a process that began in the 17th century. the uprisingin 1914 britain got involved in world war i.  the war thatbegan in july 1914 was expected to be over soon but in factdragged on interminably\n",
            "Predicted: 3 16 2021revisiting india s bond with ireland 100 years after the easter risinghttps thewire. in history irish india connection 100 years after easter uprising5 14english presence had been widespread almost from the startand there had been periodic uprisings against the british.\n",
            "\n",
            "\n",
            "Article:  one prominent victim of the ira campaignwas india s last viceroy lord mountbatten.  mountbatten asa member of the british royal family he was prince philip suncle was seen as a legitimate target by the ira.  in 1979 while he was at his summer home in county sligo ireland his boat was bombed and he was killed. the irish indian connectionthe irish had more than a modicum of sympathy for theindian struggle against the british.  one can cite severalexamples of the irish indian bond\n",
            "Predicted: one prominent victim of the ira campaignwas india s last viceroy lord mountbatten. mountbatten asa member of the british royal family he was prince philip suncle was seen as a legitimate target by the ira.\n",
            "\n",
            "\n",
            "Article:  acompany of the connaught rangers comprised of irishmenmutinied at jalandhar.  they refused to perform theirmilitary duties as a protest against the activities of thebritish army in ireland.  on the following day the mutineerssent two emissaries to a company of the rangers stationedat solan in the himalayan foothills.  those soldiers joinedthe protests as well.  they flew the irish tricolour wore sinnfein badges and sang rebel songs 3 16 2021revisiting india s bond with ireland 100 years after the easter risinghttps thewire. in history irish india connection 100 years after easter uprising9 14initially the protests were peaceful.  but on july 1 around30 soldiers in solan attempted to seize their rifles from thecompany magazine.  the guards opened fire killing twomen and wounding another.  this effectively brought themutiny to an end and the mutineers at both jalandhar andsolan were placed under armed guard\n",
            "Predicted: acompany of the connaught rangers comprised of irishmenmutinied at jalandhar. but on july 1 around30 soldiers in solan attempted to seize their rifles from thecompany magazine.\n",
            "\n",
            "\n"
          ],
          "name": "stdout"
        }
      ]
    },
    {
      "cell_type": "code",
      "metadata": {
        "id": "ozbs-yJv6W9F"
      },
      "source": [
        "#Store BERT search results in list a  \n",
        "\n",
        "a = []\n",
        "for i in range(len(search_result)):\n",
        "  bert_summary = ''.join(bert_model(search_result.iloc[i,1], min_length=60))\n",
        "  a.append(bert_summary)\n",
        "  print(bert_summary)\n",
        "  print(\"/n\")"
      ],
      "execution_count": null,
      "outputs": []
    },
    {
      "cell_type": "code",
      "metadata": {
        "id": "K1lzROtYCqJD"
      },
      "source": [
        "search_result.insert(loc=2, column='Predicted', value=a)"
      ],
      "execution_count": null,
      "outputs": []
    },
    {
      "cell_type": "code",
      "metadata": {
        "id": "jkct9HucDz4C"
      },
      "source": [
        "search_result.to_csv(r'/content/drive/MyDrive/ENFUSE/Dictionary/Bert.csv', index = False)"
      ],
      "execution_count": null,
      "outputs": []
    },
    {
      "cell_type": "code",
      "metadata": {
        "id": "qCMRBiAk6W0Q",
        "colab": {
          "base_uri": "https://localhost:8080/"
        },
        "outputId": "677e880d-c4e7-40d8-d064-de1ec16b3b1f"
      },
      "source": [
        "GPT2_model = TransformerSummarizer(transformer_type=\"GPT2\",transformer_model_key=\"gpt2-medium\")\n",
        "full = ''.join(GPT2_model(search_result.iloc[0,1], min_length=60))\n",
        "print(full)"
      ],
      "execution_count": null,
      "outputs": [
        {
          "output_type": "stream",
          "text": [
            "100%|██████████| 718/718 [00:00<00:00, 337613.26B/s]\n",
            "100%|██████████| 1520013706/1520013706 [00:54<00:00, 28080166.86B/s]\n",
            "100%|██████████| 1042301/1042301 [00:00<00:00, 2018632.07B/s]\n",
            "100%|██████████| 456318/456318 [00:00<00:00, 1068855.46B/s]\n"
          ],
          "name": "stderr"
        },
        {
          "output_type": "stream",
          "text": [
            "politics learning the tricks of the imperial secession trade irish and indian nationalism in the 30s and 40s throughout the first half ofthe twentieth century many household names from the indian nationalist movement came to ireland. keen friendships developed between a variety of irish and indian agitators embracing many of the leading political and literary figures of the day from both countries. the formation of this group was the brainchild of some formidable figures from both countries independence movements. an indian irish independence league meeting in college green during his 1932 trip attracted as many as 3 000 people. patel was also with de valera in st stephen s green on 3 july 1932 at the unveiling of the countess markievicz memorial. we are told by the irish press how a white clad grey haired figure in a square white gandhi cap mr patel looked quite at home in this dublin crowd who pressed round to shake hands and wish india god speed . throughout his time in dublin patel encouraged irish people to copy the boycott of british goods that was proving so successful in india. while in ireland patel befriended a prominent republican family the woods of donnybrook. mary mollie woods became heavily involved in the indian irish independence league. on 5 february he listened to proceedings in the d il from a seat in the visitors gallery. he had interviews with the minister for defence frank aiken the minister for finance se n macentee and the minister for industry and commerce se n lemass as well as with the labour party leader william norton fianna f il td pl. it seems that his meetings with irish ministerswere most worthwhile besides having prolonged discussions with mr de valera i met individually most of the fianna f il ministers. all of them are exceedingly sympathetic accessible and humane. according to bose with the minister for agriculture i discussed how they were trying to make the country self sufficient in the matter of food supply it was interesting to know that wheat and sugar beet were now being cultivated in large areas and the development of agriculture was making the country less dependent on cattle rearing and therefore less dependent on the english market. i also discussed with him the question of restriction of jute cultivation in india and he gave me valuable suggestions as to how he would tackle the problem if he were put in charge. bose stated how on the whole he found the work of the irish government of interest and of value to indians who would soon have to tackle the problem of nation building through the machinery of state themselves. pragmatic and profitable exchanges abounded between the two parties. de valera already knew patel and bose but he would now meet the newly appointed prime minister jawaharlal nehru whose career reflected many aspects of his own. having recently adopted constitutional nationalism at the expense of partition the one time revolutionary was preparing a warm reception for the one time irish freedom fighter who had inspired so many indians over the years. the visit was the beginning of a fond friendship between thetwo men. it was poignant though clearly not orchestrated that de valera was one of the viceroy s last guests given the part played by ireland in the breakup of the british empire. the irish soldier worshipped as an indian god in 1857 a member of an indian cult killed himself when he heard that the man he worshipped as a god had departed thislife hikate o malley is an assistant editor with the royal irish academy s documents in irish foreign policy series. they wore garments the colour of faded leaves and followednikal seyn wherever he travelled in a remote part of what is now pakistan the nikal seynis cult had first appeared in the 1840s. the irish were at once colonisers and colonised they helped run the indian empire though they were like the indians asubject people. from as early as the 1840s as sean ryder demonstrates irish nationalists made common cause with india inthe anti imperialist rhetoric of young ireland. and by the end of the 19th century anti colonial alliances gatheredmomentum a whole series of essays show the connections and mutual support between indian and irish liberationmovements in north america during the first world war and continuing contacts in the 1920s and 1930s. a few exceptionalfigures committed themselves completely to india. the career of margaret noble from co tyrone aka sister nivedita hindu nun and supporter of the bengali revolutionary movement is the subject of two studies by maina singh and ellekeboehmer there are essays by selina guinness and joseph lennon on the radical political theories and the post colonialaesthetics of james cousins irish theosophist poet and indian activist. the imperial connection took irish people to india for very different reasons as soldiers and administrators as seekers forspiritual truth or as missionaries such as thomas gavan duffy whose bizarre sounding propaganda film the catechist ofkil arni is analysed by fiona bateman. ot2 2mulvaney is kim s irish forerunner though the circumstances of his upbringing mean that we are spared another atrociousirish accent. as with mulvaney kim s irishness is meant to function as a powerful antidote to irish conspiracy . however nagai argues that the book has to be seen in the context of south africa where it was written and kipling s new conceptionof empire made urgent by the boer war which was just ending when it was published. in kipling s previous indian work written when he was actually living there in the 1880s there is a constant sense of the need for the british to maintain theirdistinctive englishness against the threat of the alien environment the land the atmosphere and the appalling oppressiveweather conditions in kipling s previous indian work written when he was actually living there in the 1880s there is a constant sense of the need for the british to maintain theirdistinctive englishness against the threat of the alien environment the land the atmosphere and the appalling oppressiveweather conditions. 3 16 2021revisiting india s bond with ireland 100 years after the easter risinghttps thewire. in 1895 a young woman of scottish irish descent margaretnoble attended a lecture by swami vivekananda inlondon. har dayalalso often took irish revolutionary friends to meetings. in history irish india connection 100 years after easter uprising8 14annie besant. credit wikipediain 1932 the indian irish independence league wasfounded. the most prominent indian member wasvithalbhai patel the older brother of vallabhai 3 16 2021revisiting india s bond with ireland 100 years after the easter risinghttps thewire. in history irish india connection 100 years after easter uprising11 14which he said that india could not take on the british in aface to face war. an interesting parallel between de valera and bose is thatrather like de valera who escaped from lincoln jail inlincolnshire england bose escaped from calcutta indecember 1940 in dramatic circumstances. in a reception held in birmingham on january 26 1950 to celebrate india s becoming a republic de valera was the guest of honour in a reception held in birmingham on january 26 1950 to celebrate india s becoming a republic de valera was the guest of honour. this was their response we and the irish had strong ties of friendship. it is for the toughness of their leaders and for the rebellion in their hearts at first glance it seemed an unusual choice. they had the black and tans we had the massacre of amritsar it may surprise some readers to discover that we are in a position to devote a special issue to connections between india and ireland. there are also many connections between ireland and other countries once part of the british raj like burma and pakistan one article here looks at bangladesh originally east pakistan . the indian irish narrative is not solely an anti imperial one. in modern times irish people both undermined and sustained the british imperial system. some of the pieces included here tell the story of ireland s colonial participation in india. his increasingly popular veneration in today s india is associated with change social fluidity compromise and connection and he is worshipped for his skills as a facilitator guide and entrepreneur ireland and india s anti imperial relationship is also covered in these pages but it is perhaps surprising to note that this is an area to which historians are only starting to turn their hand. this has since been rectified and we now know that many indian nationalists such as v. j this has since been rectified and we now know that many indian nationalists such as v. j.  patel and subhas chandra bose have in fact visited our shores and liaised with irish ii nationalists. bose who is looked at in some detail here could easily be described as the michael collins of india . some other themes that are unfortunately common to both countries are also tackled in this issue famine partition and relief agencies. cormac gr da provides us with a re evaluation of the bengal famine of 1943 4 india s last major famine and notes how some of the accounts are morbidly reminiscent of the great irish famine of a century earlier. kevin o sullivan brings the edition up to the 1970s with the difficult birth of bangladesh in so doing he gives us we use cookies to ensure that we give you the best experience on our website. our irish readers also will now have a flavour of the far reaching impact of their own history on the indian subcontinent. hi kate o malley is assistant editor with the royal irish academy s documents on irish foreign policy difp series. politics learning the tricks of the imperial secession trade irish and indian nationalism in the 30s and 40s throughout the first half of the twentieth century many household names from the indian nationalist movement came to ireland. as a result of their shared imperial histories comparisons and connections influenced the respective revolutionary activists. v v. j.  patel and the indian irish independence league in the pages of an phoblacht on 30 july 1932 there appeared an article announcing the formation of a group calling itself the indian irish independence league . the league would operate with a view to work by every possible means to secure the complete independence of india and ireland and to achieve the closest solidarity between the irish and the indian masses in their common struggle against british imperialism . we have an accurate picture of bose s reactions to his irish visit from a statement that he released on 30 march 1936 entitled impressions of ireland . out of these previously conquered regions ireland and india deemed to be the two most important to the british during the rst half of the twentieth century. to further enhance the general understanding of british rule in the twentieth century it is also crucial to examine the relationship between ireland and india revealing the dark and oppressive state of this empire a state which held innocent people against their will for their own venal motives. in 1920 eamon de valera the president of the sinn fein party of ireland published a pamphlet through the freedom friends of india titled india ireland in 1920 eamon de valera the president of the sinn fein party of ireland published a pamphlet through the freedom friends of india titled india ireland. the story of irish independence reads opaquely however without the mention of the indian irish relationship leading up to independence. on the other hand the british saw the people of india as inferior to irish people. this bigoted and discriminatory perspective the british maintained against any other nationality being drawn by author and historian michael sylvestri proved that these contradictory irish identities allowed indian and especially indian nationalists to embrace the irish a fellow subject race. in addition british inuenced irish identity began to gradually deteriorate as the eve of the first world war commenced allowing for the indian people to relate to the irish in a much more realistic manner. this war eventually led to treaty between ireland and britain allowing for an independent or dominion state which permitted a version of self governance. this proves that the communication and alliance between india and ireland transitioned from a merely nonexistent state of correspondence into an alliance stimulated by synonymous experiences. this brief insight of the context of the irish and indian independence movements expose the commonality of the violence which occurred on both irish and indian lands the cause of this being conicting linguistic and sectarian cultures india gained great inspiration from the success of the irish for the anglo irish conict provided inspiration for nationalist movements in both india and egypt. written by an irish nationalist this pamphlet provides an extensive trail of evidence supporting the notion that irish and indian alliances grew stronger under british oppression. in this pamphlet de valera frequently compares irish and indian aspirations to george washington and his efforts during the american revolution. the laboring classes can bring about change if they want to if they do not they are guilty with the others states de valera and when representatives of these classes come to their fellow laborers in america we believe the americans will not be slow to remind them of this fact. this way de valera lures his indian and irish listeners by inducing fear of shame from americans. wouldn t even be capable of comprehending the death toll of 32 000 000 starved families he proclaimed that americans. he states that since the indian population is much larger than the presence of the british military and people the actions of general dyer are necessary for britain in order to continue the imperial robbery. he continues by stating that the british once saw the growing population of the irish as threat to british rule and that this is simultaneously occurring in india. by including this de valera further expresses the empathy of irish for british oppression in india. this information reveals the brutality inicted upon the people of india contributing to the central theme of violence argued by this web page. he asks do you think it is because they really regard the indians as a backward people who need their assistance to lead them to the way of prosperity and civilization that they persist in remaining there despite the people of india by asking this question de valera brought to light darwinist claims defended by british imperialists and challenged the existence of racial superiority globally. though de valera describes their geographical and ecological differences he makes sure to highlight the similarities between the two nations. at the time the decision to attack the crowd in punjab was vetted by sir michael o dwyer an irish lieutenant governor for the british in india. so no comparison should be attempted between ireland and india. while de valera championed for ireland during the revolution the british had their take on public history and wrote articles hoping to discourage other nations to follow ireland s lead. as one reads this speech by de valera it is clear that he successfully created an alluring image of the irish as if they were the champions of all british subjects at the time nothing interests the bengali so much as the story of the rising against dublin castle the bengali believes that if he adopts the same methods as the irish republicans he will achieve at least as great a measure of self government daily mail 1926 . gandhi proved that a peaceful approach to ghting oppression resides as an alternative. from a contemporary perspective de valera comes across as violent and blood hungry towards the british empire from a contemporary perspective de valera comes across as violent and blood hungry towards the british empire. public history has played a role through the entire last century however. now over a century after independence irish people continue to commemorate the easter rising in 1916. clearly the heroism and leadership during the time of the revolution continued to maintain a positive tone among the irish public. at the time articles written for public history has played a crucial role in shaping the independence movements for both india and ireland as well as contributing to modern day understandings of these valuable moments in history. first the book seeks to contribute to the process by which in the words of erskine childers as quoted in the irish press 10 aug. second it adds a further international dimension to the history of irish republicanism as well as contributing to a better understanding of the nature of republicanism and its self perception in the postcolonial era pp 1954 the indirect influence from irish nationalism on india s own freedom struggle must some day take its rightful place in the annals of the two nations p.  2 . among the indo irish parallels observed here is the distinctly fissiparous tendency of radical groups. in indian as in irish organisations it seems in brendan behan s famous words that the first thing on any the agenda was the split . in an especially interesting chapter o malley charts subhas chandra bose s engagement with ireland. 1 but the question which we might pose however is whether the irish experience actually made any difference to the indian simply preparing a catalogue of indian admirers of say collins or de valera and of course noting that irish independence preceded indian does not necessarily prove any significant causal relationship between the two nationalist movements. indeed extracting only irish references from indian memoirs might actually over emphasise the importance of ireland. the argument here is not that communism was not a threat for it surely was but that in context it was not so paramount a threat as many believed. now there surely is a productive subject for comparative study. the author is happy to accept this review and does not wish to comment further 10 the author is happy to accept this review and does not wish to comment further 10. after all the irish have their very own fascinating celtic tales. much like india the irish can boast of an ancient and revered culture. and somewhere along the way our ancestors managed to meet and exchange musical notes in the iron age literary ideas in the 19th century and more recently tech trade innovations 5 surprising bonds shared between india and ireland talk to an irishman on indian mythology ying elephants shape shifters multiple headed demons and he ll know exactly what you re talking about. most irish pride themselves in their ability to play an instrument or hold a tune or croon . little wonder that the music band to take home the most number of grammy awards a whooping 22 is the irish band u2. flag colours and alphabetical placement are just some of the coincidental connections between ireland and india. there is pallonji mistry who as an irish citizen is one of the richest men in both countries. the tragic savita halappanavar case which exposed the failures of irish abortion policy is another. most of ireland s agricultural produce went to britain to fuel its rapidly growing cities and military expeditions khan noted that indians did not have to spend on heating and had cheaper food. another consequence might be that the british never promoted potatoes in india as they had in ireland. our per capita consumption is still relatively low and we eat them as a vegetable not a starchy staple as the irish had. during the famine the rst public funds for relief came from irish soldiers and clerks employed by the east india company in calcutta. queen s college belfast were particularly prominent in their ability to supply the british empire with a variety of specialists. irish doctors manned india s medical services and irish missionaries ran many schools. crosbie notes how irish inuence was particularly strong in the great trignometrical survey the massive project undertaken by the british in 1802 71 to map the subcontinent. irish wife both of whom had died and left him to be raised in the bazaars of india. kipling s irish characters like father victor in kim and mulvaney in soldiers three are often shown as less prejudiced than the british and able to make a closer link with indians. but kipling s depiction of the irish as loyal servants of the british was more hopeful than real. she helped establish the indian national congress and attracted other irish activists to follow her like james and margaret cousins. james was a poet who would inuence writers like the kannada poet and irish battalion ared into mutiny in jalandhar and solan in june 1920. the soldiers wore sinn fein irish nationalist rosettes and one group led by private james daly tried to seize the solan armoury. he had recently travelled to india where he had been very warmly received by nehru. kate o malley an irish historian notes that the birmingham invitation was met with scepticism perhaps from parts of the british press who viewed de valera as a gure of enmity de valera had overseen the irish transition from violence to negotiated peace and had been taoiseach and would be again but at that moment was leader of the opposition. it seems there is a real place called kil arni in south india it s not just a spoof of killarney. reclaimed as a white sahib kim s gifts of chameleon like disguise are put to use in the great game the imperial network of spies. nagai places kim s irishness in relation to kipling s other uses of irish characters in his work and his changing sense of empire. there are many irish voices in kipling s early indian stories and poems most centrally mulvaney the key character of the trio whose adventures are chronicled in soldiers three. it is hard to know which is more likely to make irish readers gnash their molars mulvaney s appalling travesty of an irish accent or kipling s summation of his countrymen that quaint crooked sweet profoundly irresponsible and profoundly loveable race that fight like fiends argue like children reason like women obey like men and jest like their own goblins of the rath through rebellion loyalty want woe or war. how s your blood pressure doing after reading that nagai with admirable dispassionateness shows how mulvaney is used by kipling to head off the threat of irish rebelliousness there are suggestions of fenianism in mulvaney s past. in an indian context he becomes a staunch if somewhat erratic imperial loyalist. nagai points out that unlike his two english comrades he marries and settles in india after his military term is up for the irishman india can become home in part because of some sort of perceived kinship between the irish and the oriental how s your blood pressure doing after reading that nagai with admirable dispassionateness shows how mulvaney is used by kipling to head off the threat of irish rebelliousness there are suggestions of fenianism in mulvaney s past. but as nagai tellingly shows also the analogies between india and ireland could be read another way as they were by maud gonne in her construction of queen victoria as the famine queen on the occasion of the monarch s visit to ireland in 1900. the irish famine was linked to the terrible famines devastating india at the time and victoria s idealisation as the imperial matriarch mother to all the people of her empire was turned into its opposite the vicious vampire who sucked out the lifeblood of the indian and irish people alike. the irish indian relationship has changed completely over the past half century as indian influences have become prominent features of irish life. hi 30s and 40s de valera talking to nehru and lady mountbatten during his visit to india 1948. such tactics had of course been adopted in ireland at the beginning of the economic war and a few months after patel s visit an phoblacht carried advertisements for a new shop the indian stores on dame street that would facilitate those wishing to boycott british goods in their entirety patel took part in some public ceremonies while in ireland. helping bose look to the future and providing tips on self government were done behind closed doors in contrast to the public rhetoric which centred on both countries shared history and experiences with the treacherous empire it was in fact one of the viceroy s last official functions in his capacity as governorgeneral of india as he was succeeded a week later by chakravarthi rajagopalachari. amon de valera with indian prime minister pandit jawaharlal nehru during his visit to india in 1948. our artefacts piece notes how 50 victoria crosses were awarded to irish soldiers in the british army in the wake of the indian rebellion mutiny of 1857 in modern times irish people both undermined and sustained the british imperial system. catherine de courcy tells the curious story of sir charles trevelyan s an insight into irish aid workers experiences of the indian subcontinent. michael kennedy provides us with a tasty history of indian cuisine in ireland a piece that focuses on more than just the other taj mahal opposite the dental hospital hungry readers will be excused for taking a curry break at this point. on closer inspection should we not challenge the perceived transient nature of contemporary western encounters with india the archetypal images of the backpacker or the yoga devotee and similarly what of the difficulties that many indians have when they come here the indian medic or it employee who has perfect english but may experience a cultural loss in translation with as many as 16 000 indians now resident in ireland we hope that they will become more aware of the many and multifarious connections between our two countries histories as a result of this special edition. both ireland and india faced gruesome realities when combating britannia and these congruent experiences led to an irish sympathy connecting with indian oppression and vice versa one of the bloody realities which india suffered through during this approximate time was amritsar massacre of 1919 in punjab. india ireland deconstruction of the text the pseudo president of ireland de valera analyzes the commonalities between irish and indian oppression from british rule in a pamphlet titled india ireland 17. de valera begins with declaring that america s revolution should be an example to not only to the irish and their independence movement but to india as well. de valera added that the british always pretended that massacres such as those led by dyer are cruel but afterwards they trusted that violence is necessary to maintain control in foreign and subject nations. so no comparison should be attempted between ireland and india it was proven how public history impacted the irish and indians during the times of the early twentieth century using the bangali and daily mail articles. we of irish blood ought to have no difficulty in seeing through the pretenses of the british government when it is unwiuing to do right.\n"
          ],
          "name": "stdout"
        }
      ]
    },
    {
      "cell_type": "code",
      "metadata": {
        "id": "djxIHyYR6Wy1",
        "colab": {
          "base_uri": "https://localhost:8080/"
        },
        "outputId": "6ed38b7c-d8b2-437a-c8a9-eb6e9f66b399"
      },
      "source": [
        "#Store GPT2 search results in list b  \n",
        "\n",
        "b = []\n",
        "for i in range(len(search_result)):\n",
        "  GPT2_summary = ''.join(GPT2_model(search_result.iloc[i,1], min_length=60))\n",
        "  b.append(GPT2_summary)\n",
        "  print(GPT2_summary)\n",
        "  print(\"/n\")"
      ],
      "execution_count": null,
      "outputs": [
        {
          "output_type": "stream",
          "text": [
            "politics learning the tricks of the imperial secession trade irish and indian nationalism in the 30s and 40s throughout the first half ofthe twentieth century many household names from the indian nationalist movement came to ireland. keen friendships developed between a variety of irish and indian agitators embracing many of the leading political and literary figures of the day from both countries. the formation of this group was the brainchild of some formidable figures from both countries independence movements. an indian irish independence league meeting in college green during his 1932 trip attracted as many as 3 000 people. patel was also with de valera in st stephen s green on 3 july 1932 at the unveiling of the countess markievicz memorial. we are told by the irish press how a white clad grey haired figure in a square white gandhi cap mr patel looked quite at home in this dublin crowd who pressed round to shake hands and wish india god speed . throughout his time in dublin patel encouraged irish people to copy the boycott of british goods that was proving so successful in india. while in ireland patel befriended a prominent republican family the woods of donnybrook. mary mollie woods became heavily involved in the indian irish independence league. on 5 february he listened to proceedings in the d il from a seat in the visitors gallery. he had interviews with the minister for defence frank aiken the minister for finance se n macentee and the minister for industry and commerce se n lemass as well as with the labour party leader william norton fianna f il td pl. it seems that his meetings with irish ministerswere most worthwhile besides having prolonged discussions with mr de valera i met individually most of the fianna f il ministers. all of them are exceedingly sympathetic accessible and humane. according to bose with the minister for agriculture i discussed how they were trying to make the country self sufficient in the matter of food supply it was interesting to know that wheat and sugar beet were now being cultivated in large areas and the development of agriculture was making the country less dependent on cattle rearing and therefore less dependent on the english market. i also discussed with him the question of restriction of jute cultivation in india and he gave me valuable suggestions as to how he would tackle the problem if he were put in charge. bose stated how on the whole he found the work of the irish government of interest and of value to indians who would soon have to tackle the problem of nation building through the machinery of state themselves. pragmatic and profitable exchanges abounded between the two parties. de valera already knew patel and bose but he would now meet the newly appointed prime minister jawaharlal nehru whose career reflected many aspects of his own. having recently adopted constitutional nationalism at the expense of partition the one time revolutionary was preparing a warm reception for the one time irish freedom fighter who had inspired so many indians over the years. the visit was the beginning of a fond friendship between thetwo men. it was poignant though clearly not orchestrated that de valera was one of the viceroy s last guests given the part played by ireland in the breakup of the british empire. the irish soldier worshipped as an indian god in 1857 a member of an indian cult killed himself when he heard that the man he worshipped as a god had departed thislife hikate o malley is an assistant editor with the royal irish academy s documents in irish foreign policy series. they wore garments the colour of faded leaves and followednikal seyn wherever he travelled in a remote part of what is now pakistan the nikal seynis cult had first appeared in the 1840s. the irish were at once colonisers and colonised they helped run the indian empire though they were like the indians asubject people. from as early as the 1840s as sean ryder demonstrates irish nationalists made common cause with india inthe anti imperialist rhetoric of young ireland. and by the end of the 19th century anti colonial alliances gatheredmomentum a whole series of essays show the connections and mutual support between indian and irish liberationmovements in north america during the first world war and continuing contacts in the 1920s and 1930s. a few exceptionalfigures committed themselves completely to india. the career of margaret noble from co tyrone aka sister nivedita hindu nun and supporter of the bengali revolutionary movement is the subject of two studies by maina singh and ellekeboehmer there are essays by selina guinness and joseph lennon on the radical political theories and the post colonialaesthetics of james cousins irish theosophist poet and indian activist. the imperial connection took irish people to india for very different reasons as soldiers and administrators as seekers forspiritual truth or as missionaries such as thomas gavan duffy whose bizarre sounding propaganda film the catechist ofkil arni is analysed by fiona bateman. ot2 2mulvaney is kim s irish forerunner though the circumstances of his upbringing mean that we are spared another atrociousirish accent. as with mulvaney kim s irishness is meant to function as a powerful antidote to irish conspiracy . however nagai argues that the book has to be seen in the context of south africa where it was written and kipling s new conceptionof empire made urgent by the boer war which was just ending when it was published. in kipling s previous indian work written when he was actually living there in the 1880s there is a constant sense of the need for the british to maintain theirdistinctive englishness against the threat of the alien environment the land the atmosphere and the appalling oppressiveweather conditions in kipling s previous indian work written when he was actually living there in the 1880s there is a constant sense of the need for the british to maintain theirdistinctive englishness against the threat of the alien environment the land the atmosphere and the appalling oppressiveweather conditions. 3 16 2021revisiting india s bond with ireland 100 years after the easter risinghttps thewire. in 1895 a young woman of scottish irish descent margaretnoble attended a lecture by swami vivekananda inlondon. har dayalalso often took irish revolutionary friends to meetings. in history irish india connection 100 years after easter uprising8 14annie besant. credit wikipediain 1932 the indian irish independence league wasfounded. the most prominent indian member wasvithalbhai patel the older brother of vallabhai 3 16 2021revisiting india s bond with ireland 100 years after the easter risinghttps thewire. in history irish india connection 100 years after easter uprising11 14which he said that india could not take on the british in aface to face war. an interesting parallel between de valera and bose is thatrather like de valera who escaped from lincoln jail inlincolnshire england bose escaped from calcutta indecember 1940 in dramatic circumstances. in a reception held in birmingham on january 26 1950 to celebrate india s becoming a republic de valera was the guest of honour in a reception held in birmingham on january 26 1950 to celebrate india s becoming a republic de valera was the guest of honour. this was their response we and the irish had strong ties of friendship. it is for the toughness of their leaders and for the rebellion in their hearts at first glance it seemed an unusual choice. they had the black and tans we had the massacre of amritsar it may surprise some readers to discover that we are in a position to devote a special issue to connections between india and ireland. there are also many connections between ireland and other countries once part of the british raj like burma and pakistan one article here looks at bangladesh originally east pakistan . the indian irish narrative is not solely an anti imperial one. in modern times irish people both undermined and sustained the british imperial system. some of the pieces included here tell the story of ireland s colonial participation in india. his increasingly popular veneration in today s india is associated with change social fluidity compromise and connection and he is worshipped for his skills as a facilitator guide and entrepreneur ireland and india s anti imperial relationship is also covered in these pages but it is perhaps surprising to note that this is an area to which historians are only starting to turn their hand. this has since been rectified and we now know that many indian nationalists such as v. j this has since been rectified and we now know that many indian nationalists such as v. j.  patel and subhas chandra bose have in fact visited our shores and liaised with irish ii nationalists. bose who is looked at in some detail here could easily be described as the michael collins of india . some other themes that are unfortunately common to both countries are also tackled in this issue famine partition and relief agencies. cormac gr da provides us with a re evaluation of the bengal famine of 1943 4 india s last major famine and notes how some of the accounts are morbidly reminiscent of the great irish famine of a century earlier. kevin o sullivan brings the edition up to the 1970s with the difficult birth of bangladesh in so doing he gives us we use cookies to ensure that we give you the best experience on our website. our irish readers also will now have a flavour of the far reaching impact of their own history on the indian subcontinent. hi kate o malley is assistant editor with the royal irish academy s documents on irish foreign policy difp series. politics learning the tricks of the imperial secession trade irish and indian nationalism in the 30s and 40s throughout the first half of the twentieth century many household names from the indian nationalist movement came to ireland. as a result of their shared imperial histories comparisons and connections influenced the respective revolutionary activists. v v. j.  patel and the indian irish independence league in the pages of an phoblacht on 30 july 1932 there appeared an article announcing the formation of a group calling itself the indian irish independence league . the league would operate with a view to work by every possible means to secure the complete independence of india and ireland and to achieve the closest solidarity between the irish and the indian masses in their common struggle against british imperialism . we have an accurate picture of bose s reactions to his irish visit from a statement that he released on 30 march 1936 entitled impressions of ireland . out of these previously conquered regions ireland and india deemed to be the two most important to the british during the rst half of the twentieth century. to further enhance the general understanding of british rule in the twentieth century it is also crucial to examine the relationship between ireland and india revealing the dark and oppressive state of this empire a state which held innocent people against their will for their own venal motives. in 1920 eamon de valera the president of the sinn fein party of ireland published a pamphlet through the freedom friends of india titled india ireland in 1920 eamon de valera the president of the sinn fein party of ireland published a pamphlet through the freedom friends of india titled india ireland. the story of irish independence reads opaquely however without the mention of the indian irish relationship leading up to independence. on the other hand the british saw the people of india as inferior to irish people. this bigoted and discriminatory perspective the british maintained against any other nationality being drawn by author and historian michael sylvestri proved that these contradictory irish identities allowed indian and especially indian nationalists to embrace the irish a fellow subject race. in addition british inuenced irish identity began to gradually deteriorate as the eve of the first world war commenced allowing for the indian people to relate to the irish in a much more realistic manner. this war eventually led to treaty between ireland and britain allowing for an independent or dominion state which permitted a version of self governance. this proves that the communication and alliance between india and ireland transitioned from a merely nonexistent state of correspondence into an alliance stimulated by synonymous experiences. this brief insight of the context of the irish and indian independence movements expose the commonality of the violence which occurred on both irish and indian lands the cause of this being conicting linguistic and sectarian cultures india gained great inspiration from the success of the irish for the anglo irish conict provided inspiration for nationalist movements in both india and egypt. written by an irish nationalist this pamphlet provides an extensive trail of evidence supporting the notion that irish and indian alliances grew stronger under british oppression. in this pamphlet de valera frequently compares irish and indian aspirations to george washington and his efforts during the american revolution. the laboring classes can bring about change if they want to if they do not they are guilty with the others states de valera and when representatives of these classes come to their fellow laborers in america we believe the americans will not be slow to remind them of this fact. this way de valera lures his indian and irish listeners by inducing fear of shame from americans. wouldn t even be capable of comprehending the death toll of 32 000 000 starved families he proclaimed that americans. he states that since the indian population is much larger than the presence of the british military and people the actions of general dyer are necessary for britain in order to continue the imperial robbery. he continues by stating that the british once saw the growing population of the irish as threat to british rule and that this is simultaneously occurring in india. by including this de valera further expresses the empathy of irish for british oppression in india. this information reveals the brutality inicted upon the people of india contributing to the central theme of violence argued by this web page. he asks do you think it is because they really regard the indians as a backward people who need their assistance to lead them to the way of prosperity and civilization that they persist in remaining there despite the people of india by asking this question de valera brought to light darwinist claims defended by british imperialists and challenged the existence of racial superiority globally. though de valera describes their geographical and ecological differences he makes sure to highlight the similarities between the two nations. at the time the decision to attack the crowd in punjab was vetted by sir michael o dwyer an irish lieutenant governor for the british in india. so no comparison should be attempted between ireland and india. while de valera championed for ireland during the revolution the british had their take on public history and wrote articles hoping to discourage other nations to follow ireland s lead. as one reads this speech by de valera it is clear that he successfully created an alluring image of the irish as if they were the champions of all british subjects at the time nothing interests the bengali so much as the story of the rising against dublin castle the bengali believes that if he adopts the same methods as the irish republicans he will achieve at least as great a measure of self government daily mail 1926 . gandhi proved that a peaceful approach to ghting oppression resides as an alternative. from a contemporary perspective de valera comes across as violent and blood hungry towards the british empire from a contemporary perspective de valera comes across as violent and blood hungry towards the british empire. public history has played a role through the entire last century however. now over a century after independence irish people continue to commemorate the easter rising in 1916. clearly the heroism and leadership during the time of the revolution continued to maintain a positive tone among the irish public. at the time articles written for public history has played a crucial role in shaping the independence movements for both india and ireland as well as contributing to modern day understandings of these valuable moments in history. first the book seeks to contribute to the process by which in the words of erskine childers as quoted in the irish press 10 aug. second it adds a further international dimension to the history of irish republicanism as well as contributing to a better understanding of the nature of republicanism and its self perception in the postcolonial era pp 1954 the indirect influence from irish nationalism on india s own freedom struggle must some day take its rightful place in the annals of the two nations p.  2 . among the indo irish parallels observed here is the distinctly fissiparous tendency of radical groups. in indian as in irish organisations it seems in brendan behan s famous words that the first thing on any the agenda was the split . in an especially interesting chapter o malley charts subhas chandra bose s engagement with ireland. 1 but the question which we might pose however is whether the irish experience actually made any difference to the indian simply preparing a catalogue of indian admirers of say collins or de valera and of course noting that irish independence preceded indian does not necessarily prove any significant causal relationship between the two nationalist movements. indeed extracting only irish references from indian memoirs might actually over emphasise the importance of ireland. the argument here is not that communism was not a threat for it surely was but that in context it was not so paramount a threat as many believed. now there surely is a productive subject for comparative study. the author is happy to accept this review and does not wish to comment further 10 the author is happy to accept this review and does not wish to comment further 10. after all the irish have their very own fascinating celtic tales. much like india the irish can boast of an ancient and revered culture. and somewhere along the way our ancestors managed to meet and exchange musical notes in the iron age literary ideas in the 19th century and more recently tech trade innovations 5 surprising bonds shared between india and ireland talk to an irishman on indian mythology ying elephants shape shifters multiple headed demons and he ll know exactly what you re talking about. most irish pride themselves in their ability to play an instrument or hold a tune or croon . little wonder that the music band to take home the most number of grammy awards a whooping 22 is the irish band u2. flag colours and alphabetical placement are just some of the coincidental connections between ireland and india. there is pallonji mistry who as an irish citizen is one of the richest men in both countries. the tragic savita halappanavar case which exposed the failures of irish abortion policy is another. most of ireland s agricultural produce went to britain to fuel its rapidly growing cities and military expeditions khan noted that indians did not have to spend on heating and had cheaper food. another consequence might be that the british never promoted potatoes in india as they had in ireland. our per capita consumption is still relatively low and we eat them as a vegetable not a starchy staple as the irish had. during the famine the rst public funds for relief came from irish soldiers and clerks employed by the east india company in calcutta. queen s college belfast were particularly prominent in their ability to supply the british empire with a variety of specialists. irish doctors manned india s medical services and irish missionaries ran many schools. crosbie notes how irish inuence was particularly strong in the great trignometrical survey the massive project undertaken by the british in 1802 71 to map the subcontinent. irish wife both of whom had died and left him to be raised in the bazaars of india. kipling s irish characters like father victor in kim and mulvaney in soldiers three are often shown as less prejudiced than the british and able to make a closer link with indians. but kipling s depiction of the irish as loyal servants of the british was more hopeful than real. she helped establish the indian national congress and attracted other irish activists to follow her like james and margaret cousins. james was a poet who would inuence writers like the kannada poet and irish battalion ared into mutiny in jalandhar and solan in june 1920. the soldiers wore sinn fein irish nationalist rosettes and one group led by private james daly tried to seize the solan armoury. he had recently travelled to india where he had been very warmly received by nehru. kate o malley an irish historian notes that the birmingham invitation was met with scepticism perhaps from parts of the british press who viewed de valera as a gure of enmity de valera had overseen the irish transition from violence to negotiated peace and had been taoiseach and would be again but at that moment was leader of the opposition. it seems there is a real place called kil arni in south india it s not just a spoof of killarney. reclaimed as a white sahib kim s gifts of chameleon like disguise are put to use in the great game the imperial network of spies. nagai places kim s irishness in relation to kipling s other uses of irish characters in his work and his changing sense of empire. there are many irish voices in kipling s early indian stories and poems most centrally mulvaney the key character of the trio whose adventures are chronicled in soldiers three. it is hard to know which is more likely to make irish readers gnash their molars mulvaney s appalling travesty of an irish accent or kipling s summation of his countrymen that quaint crooked sweet profoundly irresponsible and profoundly loveable race that fight like fiends argue like children reason like women obey like men and jest like their own goblins of the rath through rebellion loyalty want woe or war. how s your blood pressure doing after reading that nagai with admirable dispassionateness shows how mulvaney is used by kipling to head off the threat of irish rebelliousness there are suggestions of fenianism in mulvaney s past. in an indian context he becomes a staunch if somewhat erratic imperial loyalist. nagai points out that unlike his two english comrades he marries and settles in india after his military term is up for the irishman india can become home in part because of some sort of perceived kinship between the irish and the oriental how s your blood pressure doing after reading that nagai with admirable dispassionateness shows how mulvaney is used by kipling to head off the threat of irish rebelliousness there are suggestions of fenianism in mulvaney s past. but as nagai tellingly shows also the analogies between india and ireland could be read another way as they were by maud gonne in her construction of queen victoria as the famine queen on the occasion of the monarch s visit to ireland in 1900. the irish famine was linked to the terrible famines devastating india at the time and victoria s idealisation as the imperial matriarch mother to all the people of her empire was turned into its opposite the vicious vampire who sucked out the lifeblood of the indian and irish people alike. the irish indian relationship has changed completely over the past half century as indian influences have become prominent features of irish life. hi 30s and 40s de valera talking to nehru and lady mountbatten during his visit to india 1948. such tactics had of course been adopted in ireland at the beginning of the economic war and a few months after patel s visit an phoblacht carried advertisements for a new shop the indian stores on dame street that would facilitate those wishing to boycott british goods in their entirety patel took part in some public ceremonies while in ireland. helping bose look to the future and providing tips on self government were done behind closed doors in contrast to the public rhetoric which centred on both countries shared history and experiences with the treacherous empire it was in fact one of the viceroy s last official functions in his capacity as governorgeneral of india as he was succeeded a week later by chakravarthi rajagopalachari. amon de valera with indian prime minister pandit jawaharlal nehru during his visit to india in 1948. our artefacts piece notes how 50 victoria crosses were awarded to irish soldiers in the british army in the wake of the indian rebellion mutiny of 1857 in modern times irish people both undermined and sustained the british imperial system. catherine de courcy tells the curious story of sir charles trevelyan s an insight into irish aid workers experiences of the indian subcontinent. michael kennedy provides us with a tasty history of indian cuisine in ireland a piece that focuses on more than just the other taj mahal opposite the dental hospital hungry readers will be excused for taking a curry break at this point. on closer inspection should we not challenge the perceived transient nature of contemporary western encounters with india the archetypal images of the backpacker or the yoga devotee and similarly what of the difficulties that many indians have when they come here the indian medic or it employee who has perfect english but may experience a cultural loss in translation with as many as 16 000 indians now resident in ireland we hope that they will become more aware of the many and multifarious connections between our two countries histories as a result of this special edition. both ireland and india faced gruesome realities when combating britannia and these congruent experiences led to an irish sympathy connecting with indian oppression and vice versa one of the bloody realities which india suffered through during this approximate time was amritsar massacre of 1919 in punjab. india ireland deconstruction of the text the pseudo president of ireland de valera analyzes the commonalities between irish and indian oppression from british rule in a pamphlet titled india ireland 17. de valera begins with declaring that america s revolution should be an example to not only to the irish and their independence movement but to india as well. de valera added that the british always pretended that massacres such as those led by dyer are cruel but afterwards they trusted that violence is necessary to maintain control in foreign and subject nations. so no comparison should be attempted between ireland and india it was proven how public history impacted the irish and indians during the times of the early twentieth century using the bangali and daily mail articles. we of irish blood ought to have no difficulty in seeing through the pretenses of the british government when it is unwiuing to do right.\n",
            "/n\n",
            "j.  patel and the indian irish independence leaguein the pages of an phoblacht on 30 july 1932 there appeared an article announcing the formation of a group calling itself the indian irish independence league . the formation of this group was the brainchild of some formidable figures from both countries independence movements. on the irish side maud gonne macbride charlotte despard frank ryan and peadar o donnell were founder members and the indian politician most prominent was vithalbhai javerbhai v v. j.  patel had in fact travelled to ireland four times throughout the 1920s and 30s. the british intelligence services in the form of its indian political intelligence ipi section kept track of his movements and contacts in ireland. they were clearly anxious that ireland was providing indian nationalists with pertinent revolutionary precedents. the ipi was headed by an irishman and trinity college dublin graduate philip vickery and also had amongst its ranks another loyal irish servant of the crown and one time trinity man charles tegart. an indian irish independence league meeting in college green during his 1932 trip attracted as many as 3 000 people. patel was also with de valera in st stephen s green on 3 july 1932 at the unveiling of the countess markievicz memorial we are told by the irish press how a white clad grey haired figure in a square white gandhi cap mr patel looked quite at home in this dublin crowd who pressed round to shake hands and wish india god speed . throughout his time in dublin patel encouraged irish people to copy the boycott of british goods that was proving so successful in india. commenting on the patel de valera friendship that had developed as a result of his trips to ireland one british official noted it rather emphasises that fact that many of us have urged that the congress party are largely founding themselves on the methods by which the irish free state secured practical independence of great britain . patel died soon after in geneva in 1933 with another famous indian radical subhas chandra bose at his bedside. in the same way that ireland has been bedevilled by the never ending collins versus de valera debate bose left the indian people with equally divided loyalties gandhiji or netaji between 1933 and 1936 bose was a rovingambassador for indian independence in europe. bose himself addressed the meeting where speakers also included the prominent left wing activists peadar o donnell se n murray frank ryan and se n macbride. helping bose look to the future and providing tips on self government were done behind closed doors in contrast to the public rhetoric which centred on both countries shared history and experiences with the treacherous empire. in the wake of his visit to ireland bose continued to write and receive letters and press cuttings from his fond friend the left wing republican mollie woods. india had just been partitioned and as in ireland this was carried out along religious lines and coincided with thetransfer of power from britain the similarities were uncanny in the wake of his visit to ireland bose continued to write and receive letters and press cuttings from his fond friend the left wing republican mollie woods. de valera already knew patel and bose but he would now meet the newly appointed prime minister jawaharlal nehru whose career reflected many aspects of his own. the commonwealth relations office warned the high commissioners of both india and pakistan in advance of de valera s visit that it might have the effect of encouraging yet further examination in india and perhaps pakistan of the possible applicability of a solution on lines similar to those adopted in ire to the problem of the future position of india and pakistan in the commonwealth . de valera and frank aiken arrived in calcutta on the morning of 14 june 1948. from there they travelled to delhi to government house where they stayed for the next two days with nehru . for more than 30 years many of us in ireland have followed with deepest sympathy the fortunes of the people of india in their efforts to secure freedom. we regarded the people of india as co workers and allies in a common cause and we rejoiced exceedingly when india s right to independence was fully acknowledged. it was in fact one of the viceroy s last official functions in his capacity as governor general of india as he was succeeded a week later by chakravarthi rajagopalachari. it was poignant though clearly not orchestrated that de valera was one of the viceroy s last guests given the part played by ireland in the breakup of the british empire. ireland and india are both republics and ah yes they were both once parts of the british empire. ireland and india emerged from anuig conference in 2004 there has just been a second conference on the same theme at the jawaharlal nehru university indelhi. there were for instance the administrators who moved from one end of the empire to the other such as cornwallis who inthe 18th century served successively in america india and ireland charles trevelyan whose notorious period of office inireland during the famine was preceded and followed by extended terms in india or sir anthony mcdonnell a long serving officer in the indian civil service who found himself in a quite different situation as an irish catholic imperialistwhen he became under secretary of state for ireland at the beginning of the 20th century. the irish were at once colonisers and colonised they helped run the indian empire though they were like the indians asubject people. for some writers most notably yeats india remained a key territory of the mind a place of the cultural uncanny asmalcolm sen calls it. and if india looms large in the imagination of yeats even though he never visited it kipling with nospecial connections to ireland chose to make the central character in his major indian novel irish. the irish famine was linked to the terrible famines devastating india at the time and victoria s idealisation as theimperial matriarch mother to all the people of her empire was turned into its opposite the vicious vampire who sucked outthe lifeblood of the indian and irish people alike. a little more than a hundred years ago an organiseduprising against colonial rule took place in europe next door to the british in ireland in april 1916. that ireland was a colony of the british for so long is a factmany are not even aware of. at that time it was nominallyindependent and even had its own parliament. but the kingof england was the king of ireland and he appointed aviceroy to supervise its affairs. in 1801 this arrangementwas done away with the united kingdom of great britainand ireland was formed and the irish parliament dissolved. 3 16 2021revisiting india s bond with ireland 100 years after the easter risinghttps thewire. from a series ofillustrations by cork artistjames mahony 1810 1879 commissioned by illustratedlondon news 1847 from a series ofillustrations by cork artistjames mahony 1810 1879 commissioned by illustratedlondon news 1847. by themiddle of the 19th century ireland was a deeplyimpoverished country thebutt of english jokes. at onepoint half of all immigrationto the us was from ireland. in history irish india connection 100 years after easter uprising5 14english presence had been widespread almost from the startand there had been periodic uprisings against the britishsuccessive failures of thepotato crop in the 1840s sawthe irish leave in droves mostly to the us. credit wikipediatreatment of therevolutionaries you say that we shouldstill the landtill germany s overcomebut who is there to arguethatnow pearse is deaf anddumb ireland eventually won itsindependence in 1921 but thebritish did not cede northernireland which continued to remain a part of the uk. in history irish india connection 100 years after easter uprising7 14sister nivedita. one of theleague s aims was to use every possible means to securethe complete independence of india and ireland and toachieve the closest solidarity between the irish and theindian masses in their common struggle against britishimperialism . ireland had achieved independence in 1932 but not yet shed off its british baggage. it was a dominionof the empire and more than anything else it sought tobecome a republic which it achieved in 1948  among theirish members was maud gonne yeats s muse. the connaught rangers mutiny irish politics comes toindiain june 1920 another incident took place that underlinedthe peculiar relationship the irish had with indiathe connaught rangers mutiny irish politics comes toindiain june 1920 another incident took place that underlinedthe peculiar relationship the irish had with india. those soldiers joinedthe protests as well those soldiers joinedthe protests as well. it is not only for the smile and the shamrock we know ireland. it is for the toughness of their leaders and for the rebellion in their hearts. it may surprise some readers to discover that we are in a position to devote a special issue to connections between india and ireland it is not only for the smile and the shamrock we know ireland. in modern times irish people both undermined and sustained the british imperial system. some of the pieces included here tell the story of ireland s colonial participation in india. ii our artefacts piece notes how 50 victoria crosses were awarded to irish soldiers in the british army in the wake of the indian rebellion mutiny of 1857. we use cookies to ensure that we give you the best experience on our website. if you continue to use this site we will assume that you are happy with it. com 20th century contemporary history platformthe elephantand partition ireland and india 4 7 the hindu deity hanuman who is neither man nor monkey nor god but something in between. his increasingly popular veneration in today s india is associated with change social fluidity compromise and connection and he is worshipped for his skills as a facilitator guide and entrepreneur ireland and india s anti imperial relationship is also covered in these pages but it is perhaps surprising to note that this is an area to which historians are only starting to turn their hand. comparisons between the irish and indian nationalist movements up until quite recently were taken for granted with little research having been carried out in the field. com 20th century contemporaryhistory platformthe elephant and partition ireland and india 5 7 an insight into irish aid workers experiences of the indian subcontinent. michael kennedy provides us with a tasty history of indian cuisine in ireland a piece that focuses on more than just the other taj mahal opposite the dental hospital hungry readers will be excused for taking a curry break at this point. en route however you should stop by the chester beatty library which has a special exhibition maraqqa devoted to delicate and evocative indian mughal paintings see museum eye and or the long room in trinity college s old library for its irish in india exhibitionhistoryireland. patel and the indian irish independence league in the pages of an phoblacht on 30 july 1932 there appeared an article announcing the formation of a group calling itself the indian irish independence league . the league would operate with a view to work by every possible means to secure the complete independence of india and ireland and to achieve the closest solidarity between the irish and the indian masses in their common struggle against british imperialism . such tactics had of course been adopted in ireland at the beginning of the economic war and a few months after patel s visit an phoblacht carried advertisements for a new shop the indian stores on dame street that would facilitate those wishing to boycott british goods in their entirety. buy irish first then buy indian in november 1932 patel undertook a propaganda tour of america. it is believed that the final incentive to embark on this trip came from de valera who not only assured vithalbhai that he would assist him with his plans but may have helped to draw up the programme for his visit. de valera visits india de valera s high profile anti partition tour in 1948 in the aftermath of losing his first general election in sixteen years took in the newly independent india. ii nehru held a dinner in honour of de valera and it was attended by several cabinet ministers as well as by lord and lady mountbatten the mountbattens reciprocated and had de valera and nehru as their lunch guests the following day. hi kate o malley is an assistant editor with the royal irish academy s documents in irish foreign policy series. india ireland the common struggle for independence although the early nineteen hundreds directed the imperial world into an inevitable demise the long shadow of the british empire continues to eclipse a quarter of the world s nations today. out of these previously conquered regions ireland and india deemed to be the two most important to the british during the rst half of the twentieth century. to further enhance the general understanding of british rule in the twentieth century it is also crucial to examine the relationship between ireland and india revealing the dark and oppressive state of this empire a state which held innocent people against their will for their own venal motives. in 1920 eamon de valera the president of the sinn fein party of ireland published a pamphlet through the freedom friends of india titled india ireland. in this pamphlet which was also read as a speech in new york city hosted by the freedom friends of india de valera dedicated the message to comparing the common anguish experienced under british rule in india to that of the oppression of ireland by looking through the window of the irish perspective one may learn to further understand the wholesome reality of the british empire and the public history rewritten by british enthusiasts. due to their common loss of not only wealth but in actual blood the irish cultivated a sense of empathy with the indians de valera 1920 . furthermore this page will uphold the notion that de valera promoted vehement and militant strategy in urge to overthrow britain in his speech to the freedom friends of india. ordered by general reginald dyer the british authorities sought to control this setting of a few hundred peaceful protestors with gunre which ultimate led to the loss 379 lives. the relationship between ireland and india began to morph into a harmonious alliance following these common struggles under british rule. oppression continued in ireland as the irish fought the anglo irish war from 1919 1921 via guerilla war tactics organized by irish nationalists. this war eventually led to treaty between ireland and britain allowing for an independent or dominion state which permitted a version of self governance oppression continued in ireland as the irish fought the anglo irish war from 1919 1921 via guerilla war tactics organized by irish nationalists. india gained great inspiration from the success of the irish for the anglo irish conict provided inspiration for nationalist movements in both india and egypt. this proves that the communication and alliance between india and ireland transitioned from a merely nonexistent state of correspondence into an alliance stimulated by synonymous experiences. this brief insight of the context of the irish and indian independence movements expose the commonality of the violence which occurred on both irish and indian lands the cause of this being conicting linguistic and sectarian cultures. in this pamphlet de valera frequently compares irish and indian aspirations to george washington and his efforts during the american revolution. some of these were the articles written in the bangali and daily mail. however as modern historians refer back to this work as primary source of irish history the avoidance of mentioning o dwyer allows for this fact in history to saturate into the limitless historical archives and conclusions made of the past. while de valera championed for ireland during the revolution the british had their take on public history and wrote articles hoping to discourage other nations to follow ireland s lead. this of course seemed very appealing to all non british listeners and readers at the time. although this was the case the ethics to de valera s motives come into question when analyzing india ireland especially doing so after india gained independence in 1947 through aiming to inspire the indians to spark violence against british authorities he establishes ireland as a leader in the decolonization movement. india gained independence from britain through a much more peaceful process compared to 3 16 2021 india ireland the common struggle for independence contested representations debating britain s imperial legacy contestedrepresentations. in silvestri s the sinn fein of india the author mentions gandhi and his opinion on de valera. clearly the heroism and leadership during the time of the revolution continued to maintain a positive tone among the irish public. at the time articles written for public history has played a crucial role in shaping the independence movements for both india and ireland as well as contributing to modern day understandings of these valuable moments in history. kate o malley s book undoubtedly contributes to the process articulated by erskine childers as quoted at the start of this review. o malley observes that in the first half of the twentieth century british indian and irish elites alike believed that fundamental parallels between the two countries historical experiences formed the basis of a developing indo irish political nexus p o malley observes that in the first half of the twentieth century british indian and irish elites alike believed that fundamental parallels between the two countries historical experiences formed the basis of a developing indo irish political nexus p.  2 . 3 if the accepted paradigms concern the methods adopted by nationalists across the empire then there is a real problem which o malley recognises in comparing ireland and india and that problem is gandhi who is largely absent from this book. but the evidence for this might not be so conveniently assembled in security and intelligence archives. india might be as imagined a concept as ireland britain or even the british empire . as with gandhi there is not much jinnah in o malley s book though she does not miss the delicious irony of de valera visiting india but not pakistan on his antipartition tour of 1948. just as ancient hindu texts assert that life began when the river ganga descended to earth from shiva s matted locks similarly celtic mythology has goddess danu the mother of all gods who was born when a single drop of water fell onto a volcanic earth. talk to a gabby local on a rainy day and there s plenty of both in ireland and you may just learn about the irish god lugh a mighty king who controlled the skies much like the king of heaven lord indra here s a look at some of our similarities 1 the vedic connection ireland is steeped in myths and legends and celtic sites abound with tales of gods and goddesses who are as erce as they are generous where nature is worshipped and faith brings miracles. both countries strived for independence and a revolution was taking place almost simultaneously in india and ireland. the island nation enjoys a strategic position in europe a supportive government and competitive tax rates. little wonder that indian companies such as infosys hcl tech mahindra tcs wipro browserstack smt amongst others have set up their european base in ireland. most of these companies have also based r d centres and centres of excellence in ireland. bridge to dublin the fascinating connections between ireland and india synopsis flag colours and alphabetical placement are just some of the coincidental connections between ireland and india most of these companies have also based r d centres and centres of excellence in ireland. ireland was not a colony like india but its legislature was subordinate to the british parliament and its catholic majority was denied many rights. mayo to mirza bayly s essay tracing irish indian links in 1780 1914 quotes john stuart mill those englishmen who know something about india are even now those who understand ireland best. ireland was a testing ground for policies later implemented in india and also produced many of the implementers. the lives of irish peasants at that time were so miserable that mirza abu taleb khan one of the rst indian visitors to ireland in 1800 could write that the peasants of india are rich compared with them . sir charles potato forced to export grain irish peasants came to depend on potatoes. in 1845 potato blight hit ireland and the ensuing famine killed a million and forced a million more to emigrate reducing the population by 20 . his policies towards indians were more benevolent than to the irish showing perhaps he had learned from the famine. another consequence might be that the british never promoted potatoes in india as they had in ireland. india beneted from britain s exhaustion with the whole process. a few months later india agreed to join but only with vague acknowledgement of the crown as head of the commonwealth and this time the british quietly agreed. there are two national languages in ireland only one of which most of its citizens can speak fluently there are 22 official languages in india not to mention at least 18 other unofficial ones each spoken by more than five million people. in fact as we can see from this substantial volume of essays ably edited by tadhg foley and maureen o connor the history of contacts interactions and comparison between the two countries is rich and complex1 billion. the inter related colonial and post colonial stories of ireland and india prove to be fascinatingly comparable both in their similarities and their differences. essays by dermot dix ciara baylor and ml brillman tease out the implications of these men s careers for the understanding of imperial thinking. it seems there is a real place called kil arni in south india it s not just a spoof of killarney. louis macneice went in 1947 to make documentaries for the bbc on india at the point of independence and kitt fryatt in her sensitive reading of his indian poems shows how they compare and contrast with his reactions to ireland. so in kim his last major indian book he fantasises india as a land without hardship or difficulty in which his irish boy adventurer can be easily assimilated while still remaining white a projection of kipling s dream work of empire. the hindu deity hanuman who is neither man nor monkey nor god but something in between. on closer inspection should we not challenge the perceived transient nature of contemporary western encounters with india the archetypal images of the backpacker or the yoga devotee and similarly what of the difficulties that many indians have when they come here the indian medic or it employee who has perfect english but may experience a cultural loss in translation with as many as 16 000 indians now resident in ireland we hope that they will become more aware of the many and multifarious connections between our two countries histories as a result of this special edition. by looking through the window of the irish perspective one may learn to further understand the wholesome reality of the british empire and the public history rewritten by british enthusiasts 16. this conversation between ireland and india continued to last throughout both the irish and indian ght for independence and ultimately morphed into a lasting alliance between the two nations. india ireland just like kilmainham gaol and w. b due to their common loss of not only wealth but in actual blood the irish cultivated a sense of empathy with the indians de valera 1920 . as india continued to squirm under the thumbs of the british they quickly heard of the successes obtained by irish revolutionaries overseas this war eventually led to treaty between ireland and britain allowing for an independent or dominion state which permitted a version of self governance. india and ireland some one hundred and forty odd years ago general george washington sent the following message to the patriots of ireland patriots of ireland your cause is identical with mine. i trust this message of mine will unite the people of india and the people of ireland in a similar union of mutual understanding which will go on strengthening during the years. that message of washington has been a constant inspiration to the people of ireland. from a remark of one of the previous speakers it might have been inferred that ireland was conquered by britain. no nation that like washington stands true to its cause under ail circumstances ever is conquered we must all be true to our cause even when victory has fled confident that after our valley forge will come surely our yorktown. ireland has never done that and her conduct in the past is a surety that she will never do it. we in ireland comparatively small in numbers close to the seat of britain s imperial power have never despaired. you people of india remote from her a continent in yourselves seventy times as numerous as we are surely you do not despair surely you will not despairj a few years ago a british secretary of state for india in the british house of commons tried to make light of charges that the british were bleeding india to death a nation is conquered only when it abandons its cause and definitely gives way to despair. but terrible as it is it does not surprise us in ireland who know what british rule means. and the shooting of an unarmed a harmless protesting multitude and the hangings and the floggings we have not to go back far in irish history to know of these it must shock you to realize what that means you who live in this land of opportunity and plenty. we were the mere irish the laboring classes can bring about a change if they want to if they do not they are guilty with the others and when representatives of these classes come to their fellow laborers in america we believe the americans will not be slow to remind them of this fact. my friends you know well there is no peculiar difficulty in them. we ought to have no diificulty in understanding the troubles of the people of india and they in their turn should have no difficulty in understanding those of the people of ireland. they should find in the story of ireland s struggle against britain much also that will be of value to them. i commend a careful study of that story to our indian friends here tonight. conditions in india and ireland are no doubt in many respects dissimilar as i pointed out at the start. but there is one lesson that ireland s struggle teaches very plainly. it is only through the influence of fear and the pressure of force that britain has ever been brought to consider even partially the claims of ireland. we have never been able to achieve anything except when we compelled england to rule us with the naked sword. they have long played the hypocrite with success they hate now to see the mask torn from them they have long played the hypocrite with success they hate now to see the mask torn from them. we must use them to the full but we must never forget that we must ultimately rely upon ourselves if we are to be successful. like thomas francis meagher we of today in ireland will not stigmatize the sword but there is no people upon the whole earth who so desire that a world condition should be brought about in which the sword should become unnecessary as we do. and if those who decry physical force only make half the effort to bring it about that we are making it will speedily come.\n",
            "/n\n",
            "the british intelligence services in the form of its indian political intelligence ipi section kept track of his movements and contacts in ireland. they were clearly anxious that ireland was providing indian nationalists with pertinent revolutionary precedents. en route however you should stop by the chester beatty library which has a special exhibition maraqqa devoted to delicate and evocative indian mughal paintings see museum eye and or the long room in trinity college s old library for its irish in india exhibition. finally malcolm sen writes about another west east infatuation one between two cultural monoliths from ireland and india w the british intelligence services in the form of its indian political intelligence ipi section kept track of his movements and contacts in ireland. missionaries and planters followed in the nineteenth century.\n",
            "/n\n",
            "an indian irish independence league meeting in college green during his 1932 trip attracted as many as 3 000 people. throughout his time in dublin patel encouraged irish people to copy the boycott of british goods that was proving so successful in india\n",
            "/n\n",
            "mary mollie woods became heavily involved in the indian irish independence league. in november 1932 patel undertook a propaganda tour of america. it is believed that the final incentive to embark on this trip came from de valera who not only assured vithalbhai that he would assist himwith his plans but may have helped to draw up the programme for his visit 1930s standing left to right baby woods h. l.  dey father of tripura mollie woods co founder of the indian irish independence league enda woods and seated andy woods and tripura dey.\n",
            "/n\n",
            "it is believed that the final incentive to embark on this trip came from de valera who not only assured vithalbhai that he would assist himwith his plans but may have helped to draw up the programme for his visit. commenting on the patel de valera friendship that had developed as a result of his trips to ireland one british official noted it rather emphasises that fact that many of us have urged that the congress party are largely founding themselves on the methods by which the irish free state secured practical independence of great britain . patel died soon after in geneva in 1933 with another famous indian radical subhas chandra bose at his bedside.\n",
            "/n\n",
            "his is a story that is the antithesis of the world renowned gandhi inspired non violent struggle against the raj. there are parallels with the premature death of michael collins someone whom bose himself admired greatly during his own lifetime. an india outside the commonwealth could prove problematic for britain and taking advice from the author of the external relations act was not exactly top of their preferred list of methods to elucidate the situation. he was the one leader of india s freedom movement who dared to fight the british with the sword yet was not implicated in the creation of pakistan and the partition of his country. de valera and frank aiken arrived in calcutta on the morning of 14 june 1948 ix . the commonwealth relations office warned the high commissioners of both india and pakistan in advance of de valera s visit that it might have the effect of encouraging yet further examination in india and perhaps pakistan of the possible applicability of a de valera and frank aiken arrived in calcutta on the morning of 14 june 1948.\n",
            "/n\n",
            "europeans who were possibly favourable towards indian independence were also courted with considerable aplomb. these included de valera as we shall see but also mussolini and nazi officials who were somewhat less responsive.\n",
            "/n\n",
            "he was persona non grata with the british authorities and was told that he would not be allowed into the uk owing to his radical credentials. after visiting the macswiney family in cork bose made his way to dublin and arrived there on 2 february.\n",
            "/n\n",
            "little and the secretary of the department of external affairs joseph walshe. a reception was held in his honour in the shelbourne hotel where he was in fact staying i amkim. and what is kim the anguished cry repeated by kipling s hero as he undergoes his recurrent crises of identity isexplored in its broadest terms by kaori nagai in her fine book empire of analogies.\n",
            "/n\n",
            "he also attended a meeting of the women s prisoners defence league at cathal brugha street. a reception was held in his honour in the shelbourne hotel where he was in fact staying. bose himself addressed the meeting where speakers also included the prominent left wing activists peadar o donnell se n murray frank ryan and se n macbride.\n",
            "/n\n",
            "having recently adopted constitutional nationalism at the expense of partition the one time revolutionary was preparing a warm reception for the one time irish freedom fighter who had inspired so many indians over the years. the visit was the beginning of a fond friendship between thetwo men. de valera s continuing influence on indian nationalist thinking this time in relation to commonwealth membership was a source of much concern more so than his utterances about partition. bose was a great admirer of michael collins though evidently more for collins s prowess as an irish soldier of destiny than his clear political pragmatism.\n",
            "/n\n",
            "the commonwealth relations office warned the high commissioners of both india and pakistan in advance of de valera s visit that it might have the effect of encouraging yet further examination in india and perhaps pakistan of the possible applicability of a solution on lines similar to those adopted in ire to the problem of the future position of india and pakistan in the commonwealth . as it happened within a year india would become the first commonwealth republic and much to de valera s chagrin and amid controversy the first inter party government would declare ireland a republic outside the commonwealth. de valera and frank aiken arrived in calcutta on the morning of 14 june 1948.\n",
            "/n\n",
            "john was born in dublin in 1822 to alexander and clara nicholson. one of them her brother james weir hogg had made a fortune in india.\n",
            "/n\n",
            "undeterred nicholson fought with him killed him and took his body back intotown. he cut off the head and displayed it on his office desk as a warning to others. pierce grace recounts the career of sir michael o dwyer and his involvement in the amritsar massacre. the image he paints for us of the connaught rangers wearing sinn f in rosettes on their british army uniforms singing rebel songs is quite striking some of these were the articles written in the bangali and daily mail.\n",
            "/n\n",
            "and by the end of the 19th century anti colonial alliances gatheredmomentum a whole series of essays show the connections and mutual support between indian and irish liberationmovements in north america during the first world war and continuing contacts in the 1920s and 1930s. a few exceptionalfigures committed themselves completely to india. the imperial connection took irish people to india for very different reasons as soldiers and administrators as seekers forspiritual truth or as missionaries such as thomas gavan duffy whose bizarre sounding propaganda film the catechist ofkil arni is analysed by fiona bateman.\n",
            "/n\n",
            "nagai s concluding words sum up effectively the significance of both these books the pairing of india and ireland isimportant because this is precisely where we find two separate dreams born out of the empire curiously intersect the dreamof india and ireland closely united in their unwavering loyalty to the queen and that of indian and irish nationalists unitedin their goal of throwing off imperial rule to achieve their respective independences. acompany of the connaught rangers comprised of irishmenmutinied at jalandhar. they refused to perform theirmilitary duties as a protest against the activities of thebritish army in ireland it was a dominionof the empire and more than anything else it sought tobecome a republic which it achieved in 1948 . in1923 the mutineers were released from prison and returnedto ireland. the connaught rangers mutiny captures the complexity ofthe irish india relationship the connaught rangers along with threeother irish regiments were disbanded in june 1922. michael silvestri takes us a step further along the timeline and gives us a vivid account of the connaught rangers mutiny of 1920. the image he paints for us of the connaught rangers wearing sinn f in rosettes on their british army uniforms singing rebel songs is quite striking.\n",
            "/n\n",
            "3 16 2021revisiting india s bond with ireland 100 years after the easter risinghttps thewire. in history irish india connection 100 years after easter uprising5 14english presence had been widespread almost from the startand there had been periodic uprisings against the british.\n",
            "/n\n",
            "one prominent victim of the ira campaignwas india s last viceroy lord mountbatten. mountbatten asa member of the british royal family he was prince philip suncle was seen as a legitimate target by the ira.\n",
            "/n\n",
            "acompany of the connaught rangers comprised of irishmenmutinied at jalandhar. this effectively brought themutiny to an end and the mutineers at both jalandhar andsolan were placed under armed guard\n",
            "/n\n",
            "the fateh published from delhi drew parallelsbetween the mutiny and mahatma gandhi s civildisobedience movement. their plan was to seize arms from the 3 16 2021revisiting india s bond with ireland 100 years after the easter risinghttps thewire.\n",
            "/n\n",
            "de valera had three meetings with bose in 3 16 2021revisiting india s bond with ireland 100 years after the easter risinghttps thewire. an interesting parallel between de valera and bose is thatrather like de valera who escaped from lincoln jail inlincolnshire england bose escaped from calcutta indecember 1940 in dramatic circumstances.\n",
            "/n\n",
            "in later years bose drew much inspiration from the irish experience andcame to believe that only irish style militant action would secure india its freedom. in a reception held in birmingham on january 26 1950 to celebrate india s becoming a republic de valera was the guest of honour.\n",
            "/n\n",
            "this was their response we and the irish had strong ties of friendship. they had de valera and casement and macswiney we had gandhi and nehru and bose. they had sinn f in we had our national congress some of the pieces included here tell the story of ireland s colonial participation in india. pierce grace recounts the career of sir michael o dwyer and his involvement in the amritsar massacre. the relationship between ireland and india began to morph into a harmonious alliance following these common struggles under british rule their cause was a common cause eamon de valera 1920 . this article highlights the contribution of o dwyer while de valera urges to hide this feature to the history.\n",
            "/n\n",
            "bose who is looked at in some detail here could easily be described as the michael collins of india . mir aulad was a regular on the dublin social scene and the story of his life provides us with an early example of an indian who was warmly welcomed into irish society\n",
            "/n\n",
            "cormac gr da provides us with a re evaluation of the bengal famine of 1943 4 india s last major famine and notes how some of the accounts are morbidly reminiscent of the great irish famine of a century earlier. trevelyan then governor of madras is better known in ireland for his laissez faire policy towards the irish famine and for failed famine relief.\n",
            "/n\n",
            "instead of contributing to the triumphant telling of british history and its civilizing mission they told an alternative story which exposed the tragedies of imperialism. these stories were essential to the development of the new nations of ireland and india. though de valera clearly sided with the oppressed subjects of britain and used this to earn the trust of his listeners he was also guilty of altering public history towards the irish advantage.\n",
            "/n\n",
            "the league against imperialism too was a front organisation established essentially by two prominent communists who were in regular contact with moscow p.  31 .\n",
            "/n\n",
            "so not surprising at all and demonstrating that if one concentrates excessively on ipi themselves who were only interested in radical violent challenges then the potentially very considerable significance of non radical elements might be under emphasised. in it he makes the point now a commonplace not least through his own efforts that it is increasingly apparent that scholars should be adopting a four nation approach not only to the pasts of the british and hibernian sic isles but also to the history of the so called british empire p\n",
            "/n\n",
            "little wonder that the music band to take home the most number of grammy awards a whooping 22 is the irish band u2. and it stands as a testament to excellence scholarship amongst many others 3 when tagore met yeats in st.\n",
            "/n\n",
            "discuss coding a brand new app a complex tech toy and you ll nd a dubliner who gets you. most of these companies have also based r d centres and centres of excellence in ireland\n",
            "/n\n",
            "ireland was not a colony like india but its legislature was subordinate to the british parliament and its catholic majority was denied many rights. the historian ca bayly compared 18th century ireland to an indian princely state ultimate power remained with the british but the trappings of native government and native legitimacy remained in place.\n",
            "/n\n",
            "our per capita consumption is still relatively low and we eat them as a vegetable not a starchy staple as the irish had. queen s college belfast were particularly prominent in their ability to supply the british empire with a variety of specialists.\n",
            "/n\n",
            "ireland and india have a long and entwined history and however coincidental leo varadkar s election as taoiseach would bring it to a symbolic idental.\n",
            "/n\n",
            "the career of margaret noble from co tyrone aka sister nivedita hindu nun and supporter of the bengali revolutionary movement is the subject of two studies by maina singh and elleke boehmer there are essays by selina guinness and joseph lennon on the radical political theories and the post colonial aesthetics of james cousins irish theosophist poet and indian activist. the imperial connection took irish people to india for very different reasons as soldiers and administrators as seekers for spiritual truth or as missionaries such as thomas gavan duffy whose bizarre sounding propaganda film the catechist of kil arni is analysed by fiona bateman.\n",
            "/n\n",
            "successful irishmen included james alexander and robert gregory. alexander bought the estate of caledon co.  tyrone sat in the irish house of commons and then progressed through the peerage to finish as earl of caledon.\n",
            "/n\n",
            "tyrone sat in the irish house of commons and then progressed through the peerage to finish as earl of caledon. robert gregory co.  galway made himself rich by the age of 40 and returned to london where he became a director of the east india company.\n",
            "/n\n",
            "robert gregory co.  galway made himself rich by the age of 40 and returned to london where he became a director of the east india company. besides investing in land in essex and cheshire he bought the estate of coole co.  galway.\n",
            "/n\n",
            "several of the government appointed governors general including the irish born marquess wellesley pursued the route of conquest and by the late 1850s the company controlled most of modern day pakistan india and bangladesh.\n",
            "/n\n",
            "patriots of india i believe that message will be for you the inspiration it has been to us. from a remark of one of the previous speakers it might have been inferred that ireland was conquered by britain.\n",
            "/n\n",
            "ireland has never done that and her conduct in the past is a surety that she will never do it. that remark brought forth a book prosperous british india by william digby of which many of you may know\n",
            "/n\n",
            "irishmen anyhow should not be deceived by the british cant about the indians. they are necessarily ignorant when you shut them out from education and withhold knowledge from them\n",
            "/n\n",
            "but until it comes and while endeavoring to bring it about we of ireland and you of india must each of us endeavor both as separate peoples and in combination to rid ourselves of the vampire that is fattening on our blood and we must never allow ourselves to forget what weapon it was by which washington rid his country of this same vampire.\n",
            "/n\n"
          ],
          "name": "stdout"
        }
      ]
    },
    {
      "cell_type": "code",
      "metadata": {
        "id": "fIZQKbrH6Wv7"
      },
      "source": [
        ""
      ],
      "execution_count": null,
      "outputs": []
    },
    {
      "cell_type": "code",
      "metadata": {
        "id": "C7DjkHzD6WsS",
        "colab": {
          "base_uri": "https://localhost:8080/"
        },
        "outputId": "7681ec18-5425-4387-8aba-522bb6d1e150"
      },
      "source": [
        "\n",
        "xlnet_model = TransformerSummarizer(transformer_type=\"XLNet\",transformer_model_key=\"xlnet-base-cased\")\n",
        "full = ''.join(xlnet_model(search_result.iloc[i,1], min_length=60))\n",
        "print(full)"
      ],
      "execution_count": null,
      "outputs": [
        {
          "output_type": "stream",
          "text": [
            "100%|██████████| 760/760 [00:00<00:00, 260430.64B/s]\n",
            "100%|██████████| 467042463/467042463 [00:14<00:00, 31309546.10B/s]\n",
            "100%|██████████| 798011/798011 [00:00<00:00, 1535271.53B/s]\n"
          ],
          "name": "stderr"
        },
        {
          "output_type": "stream",
          "text": [
            "but until it comes and while endeavoring to bring it about we of ireland and you of india must each of us endeavor both as separate peoples and in combination to rid ourselves of the vampire that is fattening on our blood and we must never allow ourselves to forget what weapon it was by which washington rid his country of this same vampire. we swear friendship tonight and we send our common greetings and our pledges to our brothers in egypt and in persia and tell them also that their cause is our cause.\n"
          ],
          "name": "stdout"
        }
      ]
    },
    {
      "cell_type": "code",
      "metadata": {
        "id": "VC8Wg9OMH53E"
      },
      "source": [
        "#Store XLNet search results in list c  \n",
        "\n",
        "c = []\n",
        "for i in range(len(search_result)):\n",
        "  full1 = ''.join(xlnet_model(search_result.iloc[i,1], min_length=60))\n",
        "  c.append(full1)\n",
        "  print(full1)\n",
        "  print(\"/n\")"
      ],
      "execution_count": null,
      "outputs": []
    },
    {
      "cell_type": "code",
      "metadata": {
        "id": "aqMKNDi5IsXF"
      },
      "source": [
        "a\n"
      ],
      "execution_count": null,
      "outputs": []
    },
    {
      "cell_type": "code",
      "metadata": {
        "id": "Uj1Hv1j-IsRw"
      },
      "source": [
        "b"
      ],
      "execution_count": null,
      "outputs": []
    },
    {
      "cell_type": "code",
      "metadata": {
        "id": "kKelf6l6Ixdf"
      },
      "source": [
        "c"
      ],
      "execution_count": null,
      "outputs": []
    },
    {
      "cell_type": "code",
      "metadata": {
        "id": "sEZUYtODKhjD"
      },
      "source": [
        "\n",
        "from nltk.translate.bleu_score import sentence_bleu\n",
        "bleu = 0"
      ],
      "execution_count": null,
      "outputs": []
    },
    {
      "cell_type": "code",
      "metadata": {
        "colab": {
          "base_uri": "https://localhost:8080/"
        },
        "id": "qVK1ameCKpJB",
        "outputId": "4d58ab0a-17f3-4b14-fd97-3fed6717183d"
      },
      "source": [
        "len(search_result)"
      ],
      "execution_count": null,
      "outputs": [
        {
          "output_type": "execute_result",
          "data": {
            "text/plain": [
              "43"
            ]
          },
          "metadata": {
            "tags": []
          },
          "execution_count": 34
        }
      ]
    },
    {
      "cell_type": "code",
      "metadata": {
        "colab": {
          "base_uri": "https://localhost:8080/",
          "height": 171
        },
        "id": "U65_qha0LE20",
        "outputId": "3570f297-0e89-4830-c160-771172807d9f"
      },
      "source": [
        "search_result.iloc[2,1]"
      ],
      "execution_count": null,
      "outputs": [
        {
          "output_type": "execute_result",
          "data": {
            "application/vnd.google.colaboratory.intrinsic+json": {
              "type": "string"
            },
            "text/plain": [
              "' the british intelligence services in the form of its indian political intelligence ipi section kept track of his movements and contacts in ireland.  they were clearly anxious that ireland was providing indian nationalists with pertinent revolutionary precedents.  the ipi was headed by an irishman and trinity college dublin graduate philip vickery and also had amongst its ranks another loyal irish servant of the crown and one time trinity man charles tegart. patel took part in some public ceremonies while in ireland.  an indian irish independence league meeting in college green during his 1932 trip attracted as many as 3 000 people he was a physical force nationalist whose unexpected death crucially before india gained her independence left a country mourning a nationalist hero whose potential remained untested although collins unlike bose does not have an international airport named after him the lives of margaret nobel and kumar shri ranjitsinhji or prince ranji provide us with contrasting but familiar narratives of people who were drawn from the east to the west and vice versa during this period.  noble later sister nivedita was initially attracted to india by the hindu spiritualist swami vivekananda see our dib entry while anne chambers tells us the story of ranji the maharajah of connemara a wealthy and extravagant indian prince addicted to all things western who was the first non white to play test cricket for england.  vivian ibrahim rekindles the life of a one time prominent indian in dublin in the nineteenth century the trinity college academic mir aulad ali.  mir aulad was a regular on the dublin social scene and the story of his life provides us with an early example of an indian who was warmly welcomed into irish society.  some other themes that are unfortunately common to both countries are also tackled in this issue famine partition and relief agenciescom 20th century contemporaryhistory platformthe elephant and partition ireland and india 5 7 an insight into irish aid workers experiences of the indian subcontinent.  michael kennedy provides us with a tasty history of indian cuisine in ireland a piece that focuses on more than just the other taj mahal opposite the dental hospital hungry readers will be excused for taking a curry break at this point.  en route however you should stop by the chester beatty library which has a special exhibition maraqqa devoted to delicate and evocative indian mughal paintings see museum eye and or the long room in trinity college s old library for its irish in india exhibition.  both exhibitions run until 3 october 2010.  finally malcolm sen writes about another west east infatuation one between two cultural monoliths from ireland and india w the british intelligence services in the form of its indian political intelligence ipi section kept track of his movements and contacts in ireland.  they were clearly anxious that ireland was providing indian nationalists with pertinent revolutionary precedents.  the ipi was headed by an irishman and trinity college dublin graduate philip vickery and also had amongst its ranks another loyal irish servant of the crown and one time trinity man charles tegart.  patel took part in some public ceremonies while in ireland.  an indian irish independence league meeting in college green during his 1932 trip attracted as many as 3 000 people 15.  history ireland front elevation and plan of dublin university mission s projected native college at hazaribagh bengal reproduced on a banner hanging from the ceiling in the irish in india exhibition in the long room trinity college library until 3 october 2010.  trinity college dublin most of the irish who were in india in the early phases of the british occupation went there in the military or civilian service of the london based east india company.  missionaries and planters followed in the nineteenth century.  india was a place where vast fortunes could be made the universities also supplied engineers who worked on large public schemes for water management and on railway lines.  by the setting up schools in madras and other cities.  anglican graduates of trinity college established the dublin university mission to chota nagpur at the end of the nineteenth century.  as the irish presence waned especially after 1921 when many irish regiments in the british army were disbanded the indian nationalist movement drew inspiration from the irish example.  speeches by amon de valera and se n t catherine de courcy tells the curious story of sir charles trevelyan s an insight into irish aid workers experiences of the indian subcontinent.  michael kennedy provides us with a tasty history of indian cuisine in ireland a piece that focuses on more than just the other taj mahal opposite the dental hospital hungry readers will be excused for taking a curry break at this point.  en route however you should stop by the chester beatty library which has a special exhibition maraqqa devoted to delicate and evocative indian mughal paintings see museum eye and or the long room in trinity college s old library for its irish in india exhibition.  both exhibitions run until 3 october 2010.  finally malcolm sen writes about another west east infatuation one between two cultural monoliths from ireland and india w'"
            ]
          },
          "metadata": {
            "tags": []
          },
          "execution_count": 41
        }
      ]
    },
    {
      "cell_type": "code",
      "metadata": {
        "colab": {
          "base_uri": "https://localhost:8080/",
          "height": 171
        },
        "id": "rbsLP_-NLPgK",
        "outputId": "0207bb20-c12a-4208-a029-b5500d98fad2"
      },
      "source": [
        "a[0]"
      ],
      "execution_count": null,
      "outputs": [
        {
          "output_type": "execute_result",
          "data": {
            "application/vnd.google.colaboratory.intrinsic+json": {
              "type": "string"
            },
            "text/plain": [
              "'politics learning the tricks of the imperial secession trade irish and indian nationalism in the 30s and 40s throughout the first half ofthe twentieth century many household names from the indian nationalist movement came to ireland. keen friendships developed between a variety of irish and indian agitators embracing many of the leading political and literary figures of the day from both countries. as a result of their sharedimperial histories comparisons and connections influenced the respective revolutionary activists2. the formation of this group was the brainchild of some formidable figures from both countries independence movements. an indian irish independence league meeting in college green during his 1932 trip attracted as many as 3 000 people. patel was also with de valera in st stephen s green on 3 july 1932 at the unveiling of the countess markievicz memorial. throughout his time in dublin patel encouraged irish people to copy the boycott of british goods that was proving so successful in india. an advertisement stated tea direct from india such tactics had of course been adopted in ireland at the beginning of the economic war and a few months after patel s visit an phoblacht carried advertisements for anew shop the indian stores on dame street that would facilitate those wishing to boycott british goods in their entirety. while in ireland patel befriended a prominent republican family the woods of donnybrook. mary mollie woods became heavily involved in the indian irish independence league buy irish first then buy indian. on 5 february he listened to proceedings in the d il from a seat in the visitors gallery. lal wright n e deywe have an accurate picture of bose s reactions to his irish visit from a statement that he released on 30 march 1936 entitled impressions of ireland . it seems that his meetings with irish ministerswere most worthwhile besides having prolonged discussions with mr de valera i met individually most of the fianna f il ministers. all of them are exceedingly sympathetic accessible and humane. they had not yet become hardened bureaucratic ministers and there was no official atmosphere about them. i also discussed with him the question of restriction of jute cultivation in india and he gave me valuable suggestions as to how he would tackle the problem if he were put in charge. bose stated how on the whole he found the work of the irish government of interest and of value to indians who would soon have to tackle the problem of nation building through the machinery of state themselves. pragmatic and profitable exchanges abounded between the two parties. de valera already knew patel and bose but he would now meet the newly appointed prime minister jawaharlal nehru whose career reflected many aspects of his own. the visit was the beginning of a fond friendship between thetwo men. nikal seyn was in fact an irish soldier calledjohn nicholson. a few exceptionalfigures committed themselves completely to india. nagai places kim s irishness in relation to kipling sother uses of irish characters in his work and his changing sense of empire. there are many irish voices in kipling s early indian stories and poems most centrally mulvaney the key character of thetrio whose adventures are chronicled in soldiers three. com a tale of two colonies sat feb 10 00 00 00 gmt 2007https www1194614 mode print ot example. as with mulvaney kim s irishness is meant to function as a powerful antidote to irish conspiracy . 3 16 2021revisiting india s bond with ireland 100 years after the easter risinghttps thewire. by themiddle of the 19th century ireland was a deeplyimpoverished country thebutt of english jokes. at onepoint half of all immigrationto the us was from ireland. in history irish india connection 100 years after easter uprising6 14w. in 1895 a young woman of scottish irish descent margaretnoble attended a lecture by swami vivekananda inlondon. har dayalalso often took irish revolutionary friends to meetings. the home rule league mergedwith the congress in 1920 inevitably ireland figured prominently. in history irish india connection 100 years after easter uprising8 14annie besant. credit wikipediain 1932 the indian irish independence league wasfounded. at one level the irish were thecolonisers as far as the indians were concerned. their plan was to seize arms from the 3 16 2021revisiting india s bond with ireland 100 years after the easter risinghttps thewire. in history irish india connection 100 years after easter uprising11 14which he said that india could not take on the british in aface to face war. this was their response we and the irish had strong ties of friendship. in history irish india connection 100 years after easter uprising privacy the ira we had the ina. there are also many connections between ireland and other countries once part of the british raj like burma and pakistan one article here looks at bangladesh originally east pakistan . the indian irish narrative is not solely an anti imperial one. in modern times irish people both undermined and sustained the british imperial system. some of the pieces included here tell the story of ireland s colonial participation in india. pierce grace recounts the career of sir michael o dwyer and his involvement in the amritsar massacre. this has since been rectified and we now know that many indian nationalists such as v. j this has since been rectified and we now know that many indian nationalists such as v. j.  patel and subhas chandra bose have in fact visited our shores and liaised with irish ii nationalists. bose who is looked at in some detail here could easily be described as the michael collins of india . some other themes that are unfortunately common to both countries are also tackled in this issue famine partition and relief agencies. cormac gr da provides us with a re evaluation of the bengal famine of 1943 4 india s last major famine and notes how some of the accounts are morbidly reminiscent of the great irish famine of a century earlier. trevelyan then governor of madras is better known in ireland for his laissez faire policy towards the irish famine and for failed famine relief trevelyan then governor of madras is better known in ireland for his laissez faire policy towards the irish famine and for failed famine relief. our irish readers also will now have a flavour of the far reaching impact of their own history on the indian subcontinent. hi kate o malley is assistant editor with the royal irish academy s documents on irish foreign policy difp series. politics learning the tricks of the imperial secession trade irish and indian nationalism in the 30s and 40s throughout the first half of the twentieth century many household names from the indian nationalist movement came to ireland. as a result of their shared imperial histories comparisons and connections influenced the respective revolutionary activists. the league would operate with a view to work by every possible means to secure the complete independence of india and ireland and to achieve the closest solidarity between the irish and the indian masses in their common struggle against british imperialism . we are told by the irish press how a whiteclad grey haired figure in a square white gandhi cap mr patel looked quite at home in this dublin crowd who pressed round to shake hands and wish india god speed . all of them are exceedingly sympathetic accessible and humane bose s impressions of ireland . they had not yet become respectable  it was interesting to know that wheat and sugar beet were now being cultivated in large areas and the development of agriculture was making the country less dependent on cattle rearing and therefore less dependent on the english market. india ireland the common struggle for independence although the early nineteen hundreds directed the imperial world into an inevitable demise the long shadow of the british empire continues to eclipse a quarter of the world s nations today india ireland the common struggle for independence although the early nineteen hundreds directed the imperial world into an inevitable demise the long shadow of the british empire continues to eclipse a quarter of the world s nations today. out of these previously conquered regions ireland and india deemed to be the two most important to the british during the rst half of the twentieth century. to further enhance the general understanding of british rule in the twentieth century it is also crucial to examine the relationship between ireland and india revealing the dark and oppressive state of this empire a state which held innocent people against their will for their own venal motives. in 1920 eamon de valera the president of the sinn fein party of ireland published a pamphlet through the freedom friends of india titled india ireland in 1920 eamon de valera the president of the sinn fein party of ireland published a pamphlet through the freedom friends of india titled india ireland. in this pamphlet which was also read as a speech in new york city hosted by the freedom friends of india de valera dedicated the message to comparing the common anguish experienced under british rule in india to that of the oppression of ireland. due to their common loss of not only wealth but in actual blood the irish cultivated a sense of empathy with the indians de valera 1920 . ireland maintained a status of being imperialist all the while being colonized by great britain. on the other hand the british saw the people of india as inferior to irish people. this bigoted and discriminatory perspective the british maintained against any other nationality being drawn by author and historian michael sylvestri proved that these contradictory irish identities allowed indian and especially indian nationalists to embrace the irish a fellow subject race. in addition british inuenced irish identity began to gradually deteriorate as the eve of the first world war commenced allowing for the indian people to relate to the irish in a much more realistic manner. this war eventually led to treaty between ireland and britain allowing for an independent or dominion state which permitted a version of self governance. this proves that the communication and alliance between india and ireland transitioned from a merely nonexistent state of correspondence into an alliance stimulated by synonymous experiences. india ireland deconstruction of the text the pseudo president of ireland de valera analyzes the commonalities between irish and indian oppression from british rule in a pamphlet titled india ireland. written by an irish nationalist this pamphlet provides an extensive trail of evidence supporting the notion that irish and indian alliances grew stronger under british oppression. in this pamphlet de valera frequently compares irish and indian aspirations to george washington and his efforts during the american revolution. wouldn t even be capable of comprehending the death toll of 32 000 000 starved families. he continues by stating that the british once saw the growing population of the irish as threat to british rule and that this is simultaneously occurring in india. by including this de valera further expresses the empathy of irish for british oppression in india. this information reveals the brutality inicted upon the people of india contributing to the central theme of violence argued by this web page. by connecting the relationship between the irish and the indians he decrees that both identities needed to ght britain in order to attain independence. towards the end of his work the irish nationalist states it is of course always by the sword that she has maintained herself in ireland as in india but she prefers to maintain herself with the sword in its scabbard if she can. by creating this metaphor de valera declares that violence and military action are the only ways the british empire will decide to bring their soldiers back to the united kingdom though de valera describes their geographical and ecological differences he makes sure to highlight the similarities between the two nations. at the time the decision to attack the crowd in punjab was vetted by sir michael o dwyer an irish lieutenant governor for the british in india. even in a bangali article written in india during this time it stated that such is the difference between ireland and india india is a conquered country inhabited by black people she is merely a zamindari of the conquerors. this of course seemed very appealing to all non british listeners and readers at the time in silvestri s the sinn fein of india the author mentions gandhi and his opinion on de valera. he was known for respecting de valera s aspirations for independence but compared him to general dyer in his method towards attaining independence. gandhi proved that a peaceful approach to ghting oppression resides as an alternative. public history has played a role through the entire last century however. it was proven how public history impacted the irish and indians during the times of the early twentieth century using the bangali and daily mail articles of course de valera is still remembered as a champion and instigator of irish independence though gandhi continues to be known globally as a leader of peaceful revolution something that de valera said to be impossible. now over a century after independence irish people continue to commemorate the easter rising in 1916. clearly the heroism and leadership during the time of the revolution continued to maintain a positive tone among the irish public. 9 ireland india and empire indo irish radical connections 1919 64 in this stimulating book or thesis as it is described on p.  2 rather betraying its origins the author claims to meet four principal objectives. in this chapter the links between irish and indian radicals are explored in such bodies as the league against imperialism lai which according to fenner brockway sought to create a unity between organisations representing the subject races of the world . among the indo irish parallels observed here is the distinctly fissiparous tendency of radical groups. 1 but the question which we might pose however is whether the irish experience actually made any difference to the indian simply preparing a catalogue of indian admirers of say collins or de valera and of course noting that irish independence preceded indian does not necessarily prove any significant causal relationship between the two nationalist movements. indeed extracting only irish references from indian memoirs might actually over emphasise the importance of ireland. o malley achieves her second objective more successfully than her first. we find irish republicans and antiimperialists alike living off moscow gold . the fact that irish republicans like nationalists in india and other parts of the world were prepared to accept subsidies from communists sources does not of course mean that they were themselves communist but it does help explain the perception of british security and intelligence agencies in the 1920s and 30s that soviet communism was the principal global challenge the empire faced the over emphasis which o malley identifies at the very start of her book. the argument here is not that communism was not a threat for it surely was but that in context it was not so paramount a threat as many believed. although a number of scholars have worked on the topic of indian revolutionaries and their international networks most notably richard popplewell and tom fraser in his important and pioneering unpublished phd thesis 2 and some use has already been made of these papers which comprise the records of the indian government s security and intelligence department o malley identifies ipi files as a crucial aspect of her study p under arthur griffith indeed sinn f in had begun as a non violent party though it did not remain so for very long. now there surely is a productive subject for comparative study. after all the irish have their very own fascinating celtic tales. much like india the irish can boast of an ancient and revered culture. and somewhere along the way our ancestors managed to meet and exchange musical notes in the iron age literary ideas in the 19th century and more recently tech trade innovations 5 surprising bonds shared between india and ireland talk to an irishman on indian mythology ying elephants shape shifters multiple headed demons and he ll know exactly what you re talking about. 3 when tagore met yeats in st clearly we enjoyed a lively cultural exchange even in centuries gone by while celtic horns are no longer in use in ireland music continues to be an integral part of their culture. both countries strived for independence and a revolution was taking place almost simultaneously in india and ireland. flag colours and alphabetical placement are just some of the coincidental connections between ireland and india. there is pallonji mistry who as an irish citizen is one of the richest men in both countries. the tragic savita halappanavar case which exposed the failures of irish abortion policy is another. khan noted that indians did not have to spend on heating and had cheaper food. most of ireland s agricultural produce went to britain to fuel its rapidly growing cities and military expeditions. sir charles potato forced to export grain irish peasants came to depend on potatoes. another consequence might be that the british never promoted potatoes in india as they had in ireland. our per capita consumption is still relatively low and we eat them as a vegetable not a starchy staple as the irish had. queen s college belfast were particularly prominent in their ability to supply the british empire with a variety of specialists. irish doctors manned india s medical services and irish missionaries ran many schools. another telling detail not from crosbie is that as many as 50 victoria crosses britain s highest military honour were awarded to irish soldiers in india after the suppression of the rising of 1857. crosbie notes how irish inuence was particularly strong in the great trignometrical survey the massive project undertaken by the british in 1802 71 to map the subcontinent. irish wife both of whom had died and left him to be raised in the bazaars of india. but kipling s depiction of the irish as loyal servants of the british was more hopeful than real the survey had huge importance giving indians and the british a sense of the scale shape and contours of the country. but kipling s depiction of the irish as loyal servants of the british was more hopeful than real. in reality the spirit of irish nationalism lived on as did indian nationalism adapting to working within the british system irish wife both of whom had died and left him to be raised in the bazaars of india. in both countries the british had hoped to create an educated class to support their rule and while many did others reinvigorated the nationalist spirit. irish nationalists like charles parnell and indian nationalists like dadabhai naoroji used the freedoms of the british parliament to highlight the british exploitation in reality the spirit of irish nationalism lived on as did indian nationalism adapting to working within the british system. this took her to india which gave her wider scope for her activities. she helped establish the indian national congress and attracted other irish activists to follow her like james and margaret cousins. james was a poet who would inuence writers like the kannada poet and irish battalion ared into mutiny in jalandhar and solan in june 1920. the soldiers wore sinn fein irish nationalist rosettes and one group led by private james daly tried to seize the solan armoury this took her to india which gave her wider scope for her activities. the soldiers wore sinn fein irish nationalist rosettes and one group led by private james daly tried to seize the solan armoury. he admired terence macswiney the mayor of cork whose hunger strike led to his death in october 1920. de valera had overseen the irish transition from violence to negotiated peace and had been taoiseach and would be again but at that moment was leader of the opposition. he had recently travelled to india where he had been very warmly received by nehru. kate o malley an irish historian notes that the birmingham invitation was met with scepticism perhaps from parts of the british press who viewed de valera as a gure of enmity de valera had overseen the irish transition from violence to negotiated peace and had been taoiseach and would be again but at that moment was leader of the opposition. the irish were at once colonisers and colonised they helped run the indian empire though they were like the indians a subject people. from as early as the 1840s as sean ryder demonstrates irish nationalists made common cause with india in the anti imperialist rhetoric of young ireland. there are many irish voices in kipling s early indian stories and poems most centrally mulvaney the key character of the trio whose adventures are chronicled in soldiers three. it is hard to know which is more likely to make irish readers gnash their molars mulvaney s appalling travesty of an irish accent or kipling s summation of his countrymen that quaint crooked sweet profoundly irresponsible and profoundly loveable race that fight like fiends argue like children reason like women obey like men and jest like their own goblins of the rath through rebellion loyalty want woe or war. how s your blood pressure doing after reading that nagai with admirable dispassionateness shows how mulvaney is used by kipling to head off the threat of irish rebelliousness there are suggestions of fenianism in mulvaney s past. in an indian context he becomes a staunch if somewhat erratic imperial loyalist. ot 2 2 mulvaney is kim s irish forerunner though the circumstances of his upbringing mean that we are spared another atrocious irish accent. but as nagai tellingly shows also the analogies between india and ireland could be read another way as they were by maud gonne in her construction of queen victoria as the famine queen on the occasion of the monarch s visit to ireland in 1900. hi 30s and 40s de valera talking to nehru and lady mountbatten during his visit to india 1948. patel was also with de valera in st throughout his time in dublin patel encouraged irish people to copy the boycott of british goods that was proving so successful in india. such tactics had of course been adopted in ireland at the beginning of the economic war and a few months after patel s visit an phoblacht carried advertisements for a new shop the indian stores on dame street that would facilitate those wishing to boycott british goods in their entirety patel took part in some public ceremonies while in ireland. amon de valera with indian prime minister pandit jawaharlal nehru during his visit to india in 1948. catherine de courcy tells the curious story of sir charles trevelyan s an insight into irish aid workers experiences of the indian subcontinent. de valera begins with declaring that america s revolution should be an example to not only to the irish and their independence movement but to india as well. the laboring classes can bring about change if they want to if they do not they are guilty with the others states de valera and when representatives of these classes come to their fellow laborers in america we believe the americans will not be slow to remind them of this fact he even stressed the superiority of americans due their leadership and action to rid the chains of british rule. he proclaimed that americans wouldn t even be capable of comprehending the death toll of 32 000 000 starved families. de valera added that the british always pretended that massacres such as those led by dyer are cruel but afterwards they trusted that violence is necessary to maintain control in foreign and subject nations. so no comparison should be attempted between ireland and india it was proven how public history impacted the irish and indians during the times of the early twentieth century using the bangali and daily mail articles. irishmen anyhow should not be deceived by the british cant about the indians.'"
            ]
          },
          "metadata": {
            "tags": []
          },
          "execution_count": 40
        }
      ]
    },
    {
      "cell_type": "code",
      "metadata": {
        "id": "LIh8bjawMVs9"
      },
      "source": [
        "\n",
        "from nltk.translate.bleu_score import sentence_bleu\n",
        "bleu = 0"
      ],
      "execution_count": null,
      "outputs": []
    },
    {
      "cell_type": "code",
      "metadata": {
        "colab": {
          "base_uri": "https://localhost:8080/"
        },
        "id": "HfR8EK1-QblE",
        "outputId": "d6f9a149-3dd3-45c9-b7cd-ad943b178b31"
      },
      "source": [
        "bleu += sentence_bleu(search_result.iloc[3,1], a[3])\n",
        "bleu"
      ],
      "execution_count": null,
      "outputs": [
        {
          "output_type": "stream",
          "text": [
            "/usr/local/lib/python3.7/dist-packages/nltk/translate/bleu_score.py:490: UserWarning: \n",
            "Corpus/Sentence contains 0 counts of 2-gram overlaps.\n",
            "BLEU scores might be undesirable; use SmoothingFunction().\n",
            "  warnings.warn(_msg)\n"
          ],
          "name": "stderr"
        },
        {
          "output_type": "execute_result",
          "data": {
            "text/plain": [
              "0.7954168454599291"
            ]
          },
          "metadata": {
            "tags": []
          },
          "execution_count": 46
        }
      ]
    },
    {
      "cell_type": "code",
      "metadata": {
        "colab": {
          "base_uri": "https://localhost:8080/"
        },
        "id": "AW_xXf0YKhgr",
        "outputId": "e507143a-ea3d-47a4-9a49-a2cea5a2f666"
      },
      "source": [
        "\n",
        "for i in range(3,len(search_result)):\n",
        "  candidate = a[i]\n",
        "  reference = search_result.iloc[i,1]\n",
        "  bleu += sentence_bleu(reference, candidate)\n",
        "\n",
        "bleu = bleu/40"
      ],
      "execution_count": null,
      "outputs": [
        {
          "output_type": "stream",
          "text": [
            "/usr/local/lib/python3.7/dist-packages/nltk/translate/bleu_score.py:490: UserWarning: \n",
            "Corpus/Sentence contains 0 counts of 2-gram overlaps.\n",
            "BLEU scores might be undesirable; use SmoothingFunction().\n",
            "  warnings.warn(_msg)\n"
          ],
          "name": "stderr"
        }
      ]
    },
    {
      "cell_type": "code",
      "metadata": {
        "colab": {
          "base_uri": "https://localhost:8080/"
        },
        "id": "qd7OYL2EKheI",
        "outputId": "080258aa-c34d-46cb-cfc4-8e3d90b7ddf3"
      },
      "source": [
        "print(bleu)"
      ],
      "execution_count": null,
      "outputs": [
        {
          "output_type": "stream",
          "text": [
            "0.5469992449516342\n"
          ],
          "name": "stdout"
        }
      ]
    },
    {
      "cell_type": "code",
      "metadata": {
        "colab": {
          "base_uri": "https://localhost:8080/"
        },
        "id": "iCNL37GXR7md",
        "outputId": "620522e2-7b56-46aa-c848-c9cc487f7e89"
      },
      "source": [
        "\n",
        "for i in range(3,len(search_result)):\n",
        "  candidate = b[i]\n",
        "  reference = search_result.iloc[i,1]\n",
        "  bleu += sentence_bleu(reference, candidate)\n",
        "\n",
        "bleu = bleu/40"
      ],
      "execution_count": null,
      "outputs": [
        {
          "output_type": "stream",
          "text": [
            "/usr/local/lib/python3.7/dist-packages/nltk/translate/bleu_score.py:490: UserWarning: \n",
            "Corpus/Sentence contains 0 counts of 2-gram overlaps.\n",
            "BLEU scores might be undesirable; use SmoothingFunction().\n",
            "  warnings.warn(_msg)\n"
          ],
          "name": "stderr"
        }
      ]
    },
    {
      "cell_type": "code",
      "metadata": {
        "colab": {
          "base_uri": "https://localhost:8080/"
        },
        "id": "XJuZlmkgSAF8",
        "outputId": "681b17e6-ebf2-435e-de5c-8ab7e3a965ef"
      },
      "source": [
        "print(bleu)"
      ],
      "execution_count": null,
      "outputs": [
        {
          "output_type": "stream",
          "text": [
            "0.5511170341564741\n"
          ],
          "name": "stdout"
        }
      ]
    },
    {
      "cell_type": "code",
      "metadata": {
        "colab": {
          "base_uri": "https://localhost:8080/"
        },
        "id": "kc0DcMQ-R7i4",
        "outputId": "2a98b96c-bb35-4a39-a698-f50b6a548c4c"
      },
      "source": [
        "\n",
        "for i in range(3,len(search_result)):\n",
        "  candidate = c[i]\n",
        "  reference = search_result.iloc[i,1]\n",
        "  bleu += sentence_bleu(reference, candidate)\n",
        "\n",
        "bleu = bleu/40"
      ],
      "execution_count": null,
      "outputs": [
        {
          "output_type": "stream",
          "text": [
            "/usr/local/lib/python3.7/dist-packages/nltk/translate/bleu_score.py:490: UserWarning: \n",
            "Corpus/Sentence contains 0 counts of 2-gram overlaps.\n",
            "BLEU scores might be undesirable; use SmoothingFunction().\n",
            "  warnings.warn(_msg)\n"
          ],
          "name": "stderr"
        }
      ]
    },
    {
      "cell_type": "code",
      "metadata": {
        "colab": {
          "base_uri": "https://localhost:8080/"
        },
        "id": "KKnwJk9jR7gg",
        "outputId": "a92f6084-c5aa-42f0-881a-87c1853f049c"
      },
      "source": [
        "print(bleu)"
      ],
      "execution_count": null,
      "outputs": [
        {
          "output_type": "stream",
          "text": [
            "0.5597877818474589\n"
          ],
          "name": "stdout"
        }
      ]
    },
    {
      "cell_type": "markdown",
      "metadata": {
        "id": "SWvgd7C4UgYp"
      },
      "source": [
        "##ROUGE Evaluation"
      ]
    },
    {
      "cell_type": "code",
      "metadata": {
        "colab": {
          "base_uri": "https://localhost:8080/"
        },
        "id": "qcxj79txR7eA",
        "outputId": "2523c112-7dca-46d8-c35c-1092ebb4e01c"
      },
      "source": [
        "!pip install sumeval"
      ],
      "execution_count": null,
      "outputs": [
        {
          "output_type": "stream",
          "text": [
            "Collecting sumeval\n",
            "\u001b[?25l  Downloading https://files.pythonhosted.org/packages/e6/87/bfc0f9397b9421305863edfdd2dbea637e47204976cb5473535c856338f4/sumeval-0.2.2.tar.gz (80kB)\n",
            "\u001b[K     |████████████████████████████████| 81kB 3.6MB/s \n",
            "\u001b[?25hRequirement already satisfied: plac>=0.9.6 in /usr/local/lib/python3.7/dist-packages (from sumeval) (1.1.3)\n",
            "Collecting sacrebleu>=1.3.2\n",
            "\u001b[?25l  Downloading https://files.pythonhosted.org/packages/7e/57/0c7ca4e31a126189dab99c19951910bd081dea5bbd25f24b77107750eae7/sacrebleu-1.5.1-py3-none-any.whl (54kB)\n",
            "\u001b[K     |████████████████████████████████| 61kB 8.0MB/s \n",
            "\u001b[?25hCollecting portalocker==2.0.0\n",
            "  Downloading https://files.pythonhosted.org/packages/89/a6/3814b7107e0788040870e8825eebf214d72166adf656ba7d4bf14759a06a/portalocker-2.0.0-py2.py3-none-any.whl\n",
            "Building wheels for collected packages: sumeval\n",
            "  Building wheel for sumeval (setup.py) ... \u001b[?25l\u001b[?25hdone\n",
            "  Created wheel for sumeval: filename=sumeval-0.2.2-cp37-none-any.whl size=54536 sha256=965128b14ae1716441f0ca1c1660265bcd4944b9dbe1d9dd7214e8e5b305d0f8\n",
            "  Stored in directory: /root/.cache/pip/wheels/7b/6f/57/19ceecab21445c88f3c565735fa1887b4cd18d340c972eb445\n",
            "Successfully built sumeval\n",
            "Installing collected packages: portalocker, sacrebleu, sumeval\n",
            "Successfully installed portalocker-2.0.0 sacrebleu-1.5.1 sumeval-0.2.2\n"
          ],
          "name": "stdout"
        }
      ]
    },
    {
      "cell_type": "code",
      "metadata": {
        "id": "XirtONtqTV-c"
      },
      "source": [
        "from sumeval.metrics.rouge import RougeCalculator\n",
        "corpus_size = 40"
      ],
      "execution_count": null,
      "outputs": []
    },
    {
      "cell_type": "code",
      "metadata": {
        "id": "lI_OPbk-R7bR"
      },
      "source": [
        "# Calculating Rouge Score using Sumeval library  https://github.com/chakki-works/sumeval\n",
        "\n",
        "rouge = RougeCalculator()\n",
        "\n",
        "rouge_1 = []\n",
        "rouge_2 = []\n",
        "rouge_l = []\n",
        "\n",
        "for i in range(3,len(search_result)):\n",
        "  rouge_1.append(rouge.rouge_n(\n",
        "            summary= a[i],\n",
        "            references= search_result.iloc[i,1] ,\n",
        "            n=1))\n",
        "\n",
        "  rouge_2.append(rouge.rouge_n(\n",
        "            summary= a[i],\n",
        "            references= search_result.iloc[i,1] ,\n",
        "            n=2))\n",
        "\n",
        "  rouge_l.append(rouge.rouge_l(\n",
        "            summary= a[i],\n",
        "            references= search_result.iloc[i,1]))"
      ],
      "execution_count": null,
      "outputs": []
    },
    {
      "cell_type": "code",
      "metadata": {
        "colab": {
          "base_uri": "https://localhost:8080/"
        },
        "id": "iCOcNbMDTQCb",
        "outputId": "97e401d0-7e50-4bf7-8aeb-4a0899150a0a"
      },
      "source": [
        "print(\"ROUGE Values: \\n\")\n",
        "\n",
        "print(\"Rouge_1 value is {}\".format(sum(rouge_1)/len(rouge_1)))\n",
        "print(\"Rouge_2 value is {}\".format(sum(rouge_2)/len(rouge_2)))\n",
        "print(\"Rouge_l value is {}\".format(sum(rouge_l)/len(rouge_l)))"
      ],
      "execution_count": null,
      "outputs": [
        {
          "output_type": "stream",
          "text": [
            "ROUGE Values: \n",
            "\n",
            "Rouge_1 value is 0.5037560261526931\n",
            "Rouge_2 value is 0.48214030710069994\n",
            "Rouge_l value is 0.5037560261526931\n"
          ],
          "name": "stdout"
        }
      ]
    },
    {
      "cell_type": "code",
      "metadata": {
        "id": "FWHrXVSlTP_v"
      },
      "source": [
        ""
      ],
      "execution_count": null,
      "outputs": []
    },
    {
      "cell_type": "code",
      "metadata": {
        "id": "wMojMgjFUc7A"
      },
      "source": [
        "# Calculating Rouge Score using Sumeval library  https://github.com/chakki-works/sumeval\n",
        "\n",
        "rouge = RougeCalculator()\n",
        "\n",
        "rouge_1 = []\n",
        "rouge_2 = []\n",
        "rouge_l = []\n",
        "\n",
        "for i in range(3,len(search_result)):\n",
        "  rouge_1.append(rouge.rouge_n(\n",
        "            summary= b[i],\n",
        "            references= search_result.iloc[i,1] ,\n",
        "            n=1))\n",
        "\n",
        "  rouge_2.append(rouge.rouge_n(\n",
        "            summary= b[i],\n",
        "            references= search_result.iloc[i,1] ,\n",
        "            n=2))\n",
        "\n",
        "  rouge_l.append(rouge.rouge_l(\n",
        "            summary= b[i],\n",
        "            references= search_result.iloc[i,1]))"
      ],
      "execution_count": null,
      "outputs": []
    },
    {
      "cell_type": "code",
      "metadata": {
        "colab": {
          "base_uri": "https://localhost:8080/"
        },
        "id": "MSc_PsDCUc7C",
        "outputId": "01ee91eb-f266-42b9-9e86-7e530aa14884"
      },
      "source": [
        "print(\"ROUGE Values: \\n\")\n",
        "\n",
        "print(\"Rouge_1 value is {}\".format(sum(rouge_1)/len(rouge_1)))\n",
        "print(\"Rouge_2 value is {}\".format(sum(rouge_2)/len(rouge_2)))\n",
        "print(\"Rouge_l value is {}\".format(sum(rouge_l)/len(rouge_l)))"
      ],
      "execution_count": null,
      "outputs": [
        {
          "output_type": "stream",
          "text": [
            "ROUGE Values: \n",
            "\n",
            "Rouge_1 value is 0.4681671515050165\n",
            "Rouge_2 value is 0.44434582370781806\n",
            "Rouge_l value is 0.4681671515050165\n"
          ],
          "name": "stdout"
        }
      ]
    },
    {
      "cell_type": "code",
      "metadata": {
        "id": "Jz_qvo8GTP9X"
      },
      "source": [
        ""
      ],
      "execution_count": null,
      "outputs": []
    },
    {
      "cell_type": "code",
      "metadata": {
        "id": "zED9aKevUd84"
      },
      "source": [
        "# Calculating Rouge Score using Sumeval library  https://github.com/chakki-works/sumeval\n",
        "\n",
        "rouge = RougeCalculator()\n",
        "\n",
        "rouge_1 = []\n",
        "rouge_2 = []\n",
        "rouge_l = []\n",
        "\n",
        "for i in range(3,len(search_result)):\n",
        "  rouge_1.append(rouge.rouge_n(\n",
        "            summary= c[i],\n",
        "            references= search_result.iloc[i,1] ,\n",
        "            n=1))\n",
        "\n",
        "  rouge_2.append(rouge.rouge_n(\n",
        "            summary= c[i],\n",
        "            references= search_result.iloc[i,1] ,\n",
        "            n=2))\n",
        "\n",
        "  rouge_l.append(rouge.rouge_l(\n",
        "            summary= c[i],\n",
        "            references= search_result.iloc[i,1]))"
      ],
      "execution_count": null,
      "outputs": []
    },
    {
      "cell_type": "code",
      "metadata": {
        "colab": {
          "base_uri": "https://localhost:8080/"
        },
        "id": "utU1Lh4bUd84",
        "outputId": "7b559a23-0fce-4de3-9c85-c0096599b506"
      },
      "source": [
        "print(\"ROUGE Values: \\n\")\n",
        "\n",
        "print(\"Rouge_1 value is {}\".format(sum(rouge_1)/len(rouge_1)))\n",
        "print(\"Rouge_2 value is {}\".format(sum(rouge_2)/len(rouge_2)))\n",
        "print(\"Rouge_l value is {}\".format(sum(rouge_l)/len(rouge_l)))"
      ],
      "execution_count": null,
      "outputs": [
        {
          "output_type": "stream",
          "text": [
            "ROUGE Values: \n",
            "\n",
            "Rouge_1 value is 0.45463948374362584\n",
            "Rouge_2 value is 0.4319285314405982\n",
            "Rouge_l value is 0.45463948374362584\n"
          ],
          "name": "stdout"
        }
      ]
    },
    {
      "cell_type": "code",
      "metadata": {
        "id": "HycaKdQmTP6j"
      },
      "source": [
        ""
      ],
      "execution_count": null,
      "outputs": []
    },
    {
      "cell_type": "code",
      "metadata": {
        "id": "3EUehF7sTP3y"
      },
      "source": [
        ""
      ],
      "execution_count": null,
      "outputs": []
    }
  ]
}